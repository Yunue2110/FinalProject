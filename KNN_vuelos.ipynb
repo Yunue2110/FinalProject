{
 "cells": [
  {
   "cell_type": "code",
   "execution_count": 1,
   "id": "511f0037-3ab9-4b58-ba66-3b8370ddc196",
   "metadata": {},
   "outputs": [],
   "source": [
    "import pandas as pd\n",
    "import seaborn as sns\n",
    "import matplotlib.pyplot as plt\n",
    "import numpy as np\n",
    "\n",
    "\n",
    "from sklearn import metrics\n",
    "from sklearn.preprocessing import StandardScaler\n",
    "from sklearn.preprocessing import OneHotEncoder\n",
    "from sklearn.model_selection import train_test_split"
   ]
  },
  {
   "cell_type": "code",
   "execution_count": 2,
   "id": "b963e418-083a-46e8-8d56-8c936b992350",
   "metadata": {},
   "outputs": [
    {
     "data": {
      "text/html": [
       "<div>\n",
       "<style scoped>\n",
       "    .dataframe tbody tr th:only-of-type {\n",
       "        vertical-align: middle;\n",
       "    }\n",
       "\n",
       "    .dataframe tbody tr th {\n",
       "        vertical-align: top;\n",
       "    }\n",
       "\n",
       "    .dataframe thead th {\n",
       "        text-align: right;\n",
       "    }\n",
       "</style>\n",
       "<table border=\"1\" class=\"dataframe\">\n",
       "  <thead>\n",
       "    <tr style=\"text-align: right;\">\n",
       "      <th></th>\n",
       "      <th>MONTH</th>\n",
       "      <th>DAY_OF_WEEK</th>\n",
       "      <th>CRS_ELAPSED_TIME</th>\n",
       "      <th>DISTANCE</th>\n",
       "      <th>DEP_TIME_M</th>\n",
       "      <th>CRS_ARR_M</th>\n",
       "      <th>Temperature</th>\n",
       "      <th>Dew Point</th>\n",
       "      <th>Humidity</th>\n",
       "      <th>Wind Speed</th>\n",
       "      <th>Wind Gust</th>\n",
       "      <th>Pressure</th>\n",
       "      <th>sch_dep</th>\n",
       "      <th>sch_arr</th>\n",
       "      <th>TAXI_OUT</th>\n",
       "      <th>clime</th>\n",
       "      <th>DEST</th>\n",
       "      <th>Condition</th>\n",
       "      <th>DELAY_STATUS</th>\n",
       "    </tr>\n",
       "  </thead>\n",
       "  <tbody>\n",
       "    <tr>\n",
       "      <th>0</th>\n",
       "      <td>0.622243</td>\n",
       "      <td>0.499202</td>\n",
       "      <td>-0.847784</td>\n",
       "      <td>-0.710402</td>\n",
       "      <td>-1.654133</td>\n",
       "      <td>-1.340285</td>\n",
       "      <td>0.809334</td>\n",
       "      <td>0.290565</td>\n",
       "      <td>0.011385</td>\n",
       "      <td>2.018279</td>\n",
       "      <td>2.731173</td>\n",
       "      <td>-0.784764</td>\n",
       "      <td>-2.322987</td>\n",
       "      <td>-1.383478</td>\n",
       "      <td>-1.001041</td>\n",
       "      <td>-0.875884</td>\n",
       "      <td>CHS</td>\n",
       "      <td>Fair / Windy</td>\n",
       "      <td>0</td>\n",
       "    </tr>\n",
       "    <tr>\n",
       "      <th>1</th>\n",
       "      <td>0.622243</td>\n",
       "      <td>0.499202</td>\n",
       "      <td>1.219484</td>\n",
       "      <td>1.357427</td>\n",
       "      <td>-1.621436</td>\n",
       "      <td>-1.099959</td>\n",
       "      <td>0.809334</td>\n",
       "      <td>0.290565</td>\n",
       "      <td>0.011385</td>\n",
       "      <td>2.018279</td>\n",
       "      <td>2.731173</td>\n",
       "      <td>-0.784764</td>\n",
       "      <td>-2.322987</td>\n",
       "      <td>-1.383478</td>\n",
       "      <td>-0.855057</td>\n",
       "      <td>-0.875884</td>\n",
       "      <td>LAX</td>\n",
       "      <td>Fair / Windy</td>\n",
       "      <td>0</td>\n",
       "    </tr>\n",
       "    <tr>\n",
       "      <th>2</th>\n",
       "      <td>0.622243</td>\n",
       "      <td>0.499202</td>\n",
       "      <td>-0.370722</td>\n",
       "      <td>-0.223523</td>\n",
       "      <td>-1.595279</td>\n",
       "      <td>-1.241838</td>\n",
       "      <td>0.809334</td>\n",
       "      <td>0.290565</td>\n",
       "      <td>0.011385</td>\n",
       "      <td>2.018279</td>\n",
       "      <td>2.731173</td>\n",
       "      <td>-0.784764</td>\n",
       "      <td>-2.322987</td>\n",
       "      <td>-1.383478</td>\n",
       "      <td>0.166829</td>\n",
       "      <td>-0.875884</td>\n",
       "      <td>FLL</td>\n",
       "      <td>Fair / Windy</td>\n",
       "      <td>1</td>\n",
       "    </tr>\n",
       "    <tr>\n",
       "      <th>3</th>\n",
       "      <td>0.622243</td>\n",
       "      <td>0.499202</td>\n",
       "      <td>-0.479526</td>\n",
       "      <td>-0.364077</td>\n",
       "      <td>-1.588739</td>\n",
       "      <td>-1.152078</td>\n",
       "      <td>0.809334</td>\n",
       "      <td>0.290565</td>\n",
       "      <td>0.011385</td>\n",
       "      <td>2.018279</td>\n",
       "      <td>2.731173</td>\n",
       "      <td>-0.784764</td>\n",
       "      <td>-2.322987</td>\n",
       "      <td>-1.383478</td>\n",
       "      <td>-1.293008</td>\n",
       "      <td>-0.875884</td>\n",
       "      <td>MCO</td>\n",
       "      <td>Fair / Windy</td>\n",
       "      <td>0</td>\n",
       "    </tr>\n",
       "    <tr>\n",
       "      <th>4</th>\n",
       "      <td>0.622243</td>\n",
       "      <td>0.499202</td>\n",
       "      <td>-0.722242</td>\n",
       "      <td>-0.570972</td>\n",
       "      <td>-1.546233</td>\n",
       "      <td>-1.192615</td>\n",
       "      <td>0.560651</td>\n",
       "      <td>0.128137</td>\n",
       "      <td>0.011385</td>\n",
       "      <td>1.858498</td>\n",
       "      <td>2.478788</td>\n",
       "      <td>-0.615933</td>\n",
       "      <td>-2.322987</td>\n",
       "      <td>-1.383478</td>\n",
       "      <td>-1.147024</td>\n",
       "      <td>-0.875884</td>\n",
       "      <td>ATL</td>\n",
       "      <td>Fair / Windy</td>\n",
       "      <td>0</td>\n",
       "    </tr>\n",
       "    <tr>\n",
       "      <th>...</th>\n",
       "      <td>...</td>\n",
       "      <td>...</td>\n",
       "      <td>...</td>\n",
       "      <td>...</td>\n",
       "      <td>...</td>\n",
       "      <td>...</td>\n",
       "      <td>...</td>\n",
       "      <td>...</td>\n",
       "      <td>...</td>\n",
       "      <td>...</td>\n",
       "      <td>...</td>\n",
       "      <td>...</td>\n",
       "      <td>...</td>\n",
       "      <td>...</td>\n",
       "      <td>...</td>\n",
       "      <td>...</td>\n",
       "      <td>...</td>\n",
       "      <td>...</td>\n",
       "      <td>...</td>\n",
       "    </tr>\n",
       "    <tr>\n",
       "      <th>28813</th>\n",
       "      <td>-1.381086</td>\n",
       "      <td>0.499202</td>\n",
       "      <td>-1.408541</td>\n",
       "      <td>-1.256875</td>\n",
       "      <td>1.775772</td>\n",
       "      <td>1.494401</td>\n",
       "      <td>-0.309741</td>\n",
       "      <td>0.615422</td>\n",
       "      <td>1.630537</td>\n",
       "      <td>-1.017564</td>\n",
       "      <td>-0.465711</td>\n",
       "      <td>0.295758</td>\n",
       "      <td>-1.166328</td>\n",
       "      <td>0.431822</td>\n",
       "      <td>-0.271122</td>\n",
       "      <td>-1.425826</td>\n",
       "      <td>ORH</td>\n",
       "      <td>Cloudy</td>\n",
       "      <td>1</td>\n",
       "    </tr>\n",
       "    <tr>\n",
       "      <th>28814</th>\n",
       "      <td>-1.381086</td>\n",
       "      <td>0.499202</td>\n",
       "      <td>-1.257890</td>\n",
       "      <td>-1.215271</td>\n",
       "      <td>1.841166</td>\n",
       "      <td>-2.565078</td>\n",
       "      <td>-0.309741</td>\n",
       "      <td>0.615422</td>\n",
       "      <td>1.630537</td>\n",
       "      <td>-1.017564</td>\n",
       "      <td>-0.465711</td>\n",
       "      <td>0.295758</td>\n",
       "      <td>-1.271479</td>\n",
       "      <td>-0.657358</td>\n",
       "      <td>0.166829</td>\n",
       "      <td>-1.425826</td>\n",
       "      <td>BOS</td>\n",
       "      <td>Cloudy</td>\n",
       "      <td>1</td>\n",
       "    </tr>\n",
       "    <tr>\n",
       "      <th>28815</th>\n",
       "      <td>-1.381086</td>\n",
       "      <td>0.499202</td>\n",
       "      <td>1.395244</td>\n",
       "      <td>1.297832</td>\n",
       "      <td>1.893481</td>\n",
       "      <td>1.233806</td>\n",
       "      <td>-0.309741</td>\n",
       "      <td>0.615422</td>\n",
       "      <td>1.630537</td>\n",
       "      <td>-1.017564</td>\n",
       "      <td>-0.465711</td>\n",
       "      <td>0.295758</td>\n",
       "      <td>-1.271479</td>\n",
       "      <td>-0.657358</td>\n",
       "      <td>0.020845</td>\n",
       "      <td>-1.425826</td>\n",
       "      <td>SEA</td>\n",
       "      <td>Cloudy</td>\n",
       "      <td>1</td>\n",
       "    </tr>\n",
       "    <tr>\n",
       "      <th>28816</th>\n",
       "      <td>-1.381086</td>\n",
       "      <td>0.499202</td>\n",
       "      <td>-0.010833</td>\n",
       "      <td>0.371301</td>\n",
       "      <td>1.939257</td>\n",
       "      <td>-1.881742</td>\n",
       "      <td>-0.309741</td>\n",
       "      <td>0.615422</td>\n",
       "      <td>1.630537</td>\n",
       "      <td>-1.017564</td>\n",
       "      <td>-0.465711</td>\n",
       "      <td>0.295758</td>\n",
       "      <td>-1.271479</td>\n",
       "      <td>-0.657358</td>\n",
       "      <td>-1.147024</td>\n",
       "      <td>-1.425826</td>\n",
       "      <td>SJU</td>\n",
       "      <td>Cloudy</td>\n",
       "      <td>1</td>\n",
       "    </tr>\n",
       "    <tr>\n",
       "      <th>28817</th>\n",
       "      <td>-1.381086</td>\n",
       "      <td>0.499202</td>\n",
       "      <td>-0.002464</td>\n",
       "      <td>0.346564</td>\n",
       "      <td>1.991572</td>\n",
       "      <td>-1.815146</td>\n",
       "      <td>-0.309741</td>\n",
       "      <td>0.615422</td>\n",
       "      <td>1.630537</td>\n",
       "      <td>-1.017564</td>\n",
       "      <td>-0.465711</td>\n",
       "      <td>0.295758</td>\n",
       "      <td>-1.271479</td>\n",
       "      <td>-0.657358</td>\n",
       "      <td>-0.855057</td>\n",
       "      <td>-1.425826</td>\n",
       "      <td>BQN</td>\n",
       "      <td>Cloudy</td>\n",
       "      <td>0</td>\n",
       "    </tr>\n",
       "  </tbody>\n",
       "</table>\n",
       "<p>28818 rows × 19 columns</p>\n",
       "</div>"
      ],
      "text/plain": [
       "          MONTH  DAY_OF_WEEK  CRS_ELAPSED_TIME  DISTANCE  DEP_TIME_M  \\\n",
       "0      0.622243     0.499202         -0.847784 -0.710402   -1.654133   \n",
       "1      0.622243     0.499202          1.219484  1.357427   -1.621436   \n",
       "2      0.622243     0.499202         -0.370722 -0.223523   -1.595279   \n",
       "3      0.622243     0.499202         -0.479526 -0.364077   -1.588739   \n",
       "4      0.622243     0.499202         -0.722242 -0.570972   -1.546233   \n",
       "...         ...          ...               ...       ...         ...   \n",
       "28813 -1.381086     0.499202         -1.408541 -1.256875    1.775772   \n",
       "28814 -1.381086     0.499202         -1.257890 -1.215271    1.841166   \n",
       "28815 -1.381086     0.499202          1.395244  1.297832    1.893481   \n",
       "28816 -1.381086     0.499202         -0.010833  0.371301    1.939257   \n",
       "28817 -1.381086     0.499202         -0.002464  0.346564    1.991572   \n",
       "\n",
       "       CRS_ARR_M  Temperature  Dew Point  Humidity  Wind Speed  Wind Gust  \\\n",
       "0      -1.340285     0.809334   0.290565  0.011385    2.018279   2.731173   \n",
       "1      -1.099959     0.809334   0.290565  0.011385    2.018279   2.731173   \n",
       "2      -1.241838     0.809334   0.290565  0.011385    2.018279   2.731173   \n",
       "3      -1.152078     0.809334   0.290565  0.011385    2.018279   2.731173   \n",
       "4      -1.192615     0.560651   0.128137  0.011385    1.858498   2.478788   \n",
       "...          ...          ...        ...       ...         ...        ...   \n",
       "28813   1.494401    -0.309741   0.615422  1.630537   -1.017564  -0.465711   \n",
       "28814  -2.565078    -0.309741   0.615422  1.630537   -1.017564  -0.465711   \n",
       "28815   1.233806    -0.309741   0.615422  1.630537   -1.017564  -0.465711   \n",
       "28816  -1.881742    -0.309741   0.615422  1.630537   -1.017564  -0.465711   \n",
       "28817  -1.815146    -0.309741   0.615422  1.630537   -1.017564  -0.465711   \n",
       "\n",
       "       Pressure   sch_dep   sch_arr  TAXI_OUT     clime DEST     Condition  \\\n",
       "0     -0.784764 -2.322987 -1.383478 -1.001041 -0.875884  CHS  Fair / Windy   \n",
       "1     -0.784764 -2.322987 -1.383478 -0.855057 -0.875884  LAX  Fair / Windy   \n",
       "2     -0.784764 -2.322987 -1.383478  0.166829 -0.875884  FLL  Fair / Windy   \n",
       "3     -0.784764 -2.322987 -1.383478 -1.293008 -0.875884  MCO  Fair / Windy   \n",
       "4     -0.615933 -2.322987 -1.383478 -1.147024 -0.875884  ATL  Fair / Windy   \n",
       "...         ...       ...       ...       ...       ...  ...           ...   \n",
       "28813  0.295758 -1.166328  0.431822 -0.271122 -1.425826  ORH        Cloudy   \n",
       "28814  0.295758 -1.271479 -0.657358  0.166829 -1.425826  BOS        Cloudy   \n",
       "28815  0.295758 -1.271479 -0.657358  0.020845 -1.425826  SEA        Cloudy   \n",
       "28816  0.295758 -1.271479 -0.657358 -1.147024 -1.425826  SJU        Cloudy   \n",
       "28817  0.295758 -1.271479 -0.657358 -0.855057 -1.425826  BQN        Cloudy   \n",
       "\n",
       "       DELAY_STATUS  \n",
       "0                 0  \n",
       "1                 0  \n",
       "2                 1  \n",
       "3                 0  \n",
       "4                 0  \n",
       "...             ...  \n",
       "28813             1  \n",
       "28814             1  \n",
       "28815             1  \n",
       "28816             1  \n",
       "28817             0  \n",
       "\n",
       "[28818 rows x 19 columns]"
      ]
     },
     "execution_count": 2,
     "metadata": {},
     "output_type": "execute_result"
    }
   ],
   "source": [
    "df= pd.read_csv('final_vuelo.csv')\n",
    "df"
   ]
  },
  {
   "cell_type": "code",
   "execution_count": 3,
   "id": "8398e712-6784-4339-ab9c-0427f203761a",
   "metadata": {},
   "outputs": [],
   "source": [
    "columnas_drop =[ 'DEST' , 'Condition']"
   ]
  },
  {
   "cell_type": "code",
   "execution_count": 4,
   "id": "f5f91d30-03f4-448b-b34b-032e1b7b01e2",
   "metadata": {},
   "outputs": [],
   "source": [
    " df = df.drop(columnas_drop, axis=1)"
   ]
  },
  {
   "cell_type": "code",
   "execution_count": 5,
   "id": "d92c82fd-8b14-4e01-8d90-36c17dbc329b",
   "metadata": {},
   "outputs": [
    {
     "data": {
      "text/html": [
       "<div>\n",
       "<style scoped>\n",
       "    .dataframe tbody tr th:only-of-type {\n",
       "        vertical-align: middle;\n",
       "    }\n",
       "\n",
       "    .dataframe tbody tr th {\n",
       "        vertical-align: top;\n",
       "    }\n",
       "\n",
       "    .dataframe thead th {\n",
       "        text-align: right;\n",
       "    }\n",
       "</style>\n",
       "<table border=\"1\" class=\"dataframe\">\n",
       "  <thead>\n",
       "    <tr style=\"text-align: right;\">\n",
       "      <th></th>\n",
       "      <th>MONTH</th>\n",
       "      <th>DAY_OF_WEEK</th>\n",
       "      <th>CRS_ELAPSED_TIME</th>\n",
       "      <th>DISTANCE</th>\n",
       "      <th>DEP_TIME_M</th>\n",
       "      <th>CRS_ARR_M</th>\n",
       "      <th>Temperature</th>\n",
       "      <th>Dew Point</th>\n",
       "      <th>Humidity</th>\n",
       "      <th>Wind Speed</th>\n",
       "      <th>Wind Gust</th>\n",
       "      <th>Pressure</th>\n",
       "      <th>sch_dep</th>\n",
       "      <th>sch_arr</th>\n",
       "      <th>TAXI_OUT</th>\n",
       "      <th>clime</th>\n",
       "      <th>DELAY_STATUS</th>\n",
       "    </tr>\n",
       "  </thead>\n",
       "  <tbody>\n",
       "    <tr>\n",
       "      <th>0</th>\n",
       "      <td>0.622243</td>\n",
       "      <td>0.499202</td>\n",
       "      <td>-0.847784</td>\n",
       "      <td>-0.710402</td>\n",
       "      <td>-1.654133</td>\n",
       "      <td>-1.340285</td>\n",
       "      <td>0.809334</td>\n",
       "      <td>0.290565</td>\n",
       "      <td>0.011385</td>\n",
       "      <td>2.018279</td>\n",
       "      <td>2.731173</td>\n",
       "      <td>-0.784764</td>\n",
       "      <td>-2.322987</td>\n",
       "      <td>-1.383478</td>\n",
       "      <td>-1.001041</td>\n",
       "      <td>-0.875884</td>\n",
       "      <td>0</td>\n",
       "    </tr>\n",
       "    <tr>\n",
       "      <th>1</th>\n",
       "      <td>0.622243</td>\n",
       "      <td>0.499202</td>\n",
       "      <td>1.219484</td>\n",
       "      <td>1.357427</td>\n",
       "      <td>-1.621436</td>\n",
       "      <td>-1.099959</td>\n",
       "      <td>0.809334</td>\n",
       "      <td>0.290565</td>\n",
       "      <td>0.011385</td>\n",
       "      <td>2.018279</td>\n",
       "      <td>2.731173</td>\n",
       "      <td>-0.784764</td>\n",
       "      <td>-2.322987</td>\n",
       "      <td>-1.383478</td>\n",
       "      <td>-0.855057</td>\n",
       "      <td>-0.875884</td>\n",
       "      <td>0</td>\n",
       "    </tr>\n",
       "    <tr>\n",
       "      <th>2</th>\n",
       "      <td>0.622243</td>\n",
       "      <td>0.499202</td>\n",
       "      <td>-0.370722</td>\n",
       "      <td>-0.223523</td>\n",
       "      <td>-1.595279</td>\n",
       "      <td>-1.241838</td>\n",
       "      <td>0.809334</td>\n",
       "      <td>0.290565</td>\n",
       "      <td>0.011385</td>\n",
       "      <td>2.018279</td>\n",
       "      <td>2.731173</td>\n",
       "      <td>-0.784764</td>\n",
       "      <td>-2.322987</td>\n",
       "      <td>-1.383478</td>\n",
       "      <td>0.166829</td>\n",
       "      <td>-0.875884</td>\n",
       "      <td>1</td>\n",
       "    </tr>\n",
       "    <tr>\n",
       "      <th>3</th>\n",
       "      <td>0.622243</td>\n",
       "      <td>0.499202</td>\n",
       "      <td>-0.479526</td>\n",
       "      <td>-0.364077</td>\n",
       "      <td>-1.588739</td>\n",
       "      <td>-1.152078</td>\n",
       "      <td>0.809334</td>\n",
       "      <td>0.290565</td>\n",
       "      <td>0.011385</td>\n",
       "      <td>2.018279</td>\n",
       "      <td>2.731173</td>\n",
       "      <td>-0.784764</td>\n",
       "      <td>-2.322987</td>\n",
       "      <td>-1.383478</td>\n",
       "      <td>-1.293008</td>\n",
       "      <td>-0.875884</td>\n",
       "      <td>0</td>\n",
       "    </tr>\n",
       "    <tr>\n",
       "      <th>4</th>\n",
       "      <td>0.622243</td>\n",
       "      <td>0.499202</td>\n",
       "      <td>-0.722242</td>\n",
       "      <td>-0.570972</td>\n",
       "      <td>-1.546233</td>\n",
       "      <td>-1.192615</td>\n",
       "      <td>0.560651</td>\n",
       "      <td>0.128137</td>\n",
       "      <td>0.011385</td>\n",
       "      <td>1.858498</td>\n",
       "      <td>2.478788</td>\n",
       "      <td>-0.615933</td>\n",
       "      <td>-2.322987</td>\n",
       "      <td>-1.383478</td>\n",
       "      <td>-1.147024</td>\n",
       "      <td>-0.875884</td>\n",
       "      <td>0</td>\n",
       "    </tr>\n",
       "    <tr>\n",
       "      <th>...</th>\n",
       "      <td>...</td>\n",
       "      <td>...</td>\n",
       "      <td>...</td>\n",
       "      <td>...</td>\n",
       "      <td>...</td>\n",
       "      <td>...</td>\n",
       "      <td>...</td>\n",
       "      <td>...</td>\n",
       "      <td>...</td>\n",
       "      <td>...</td>\n",
       "      <td>...</td>\n",
       "      <td>...</td>\n",
       "      <td>...</td>\n",
       "      <td>...</td>\n",
       "      <td>...</td>\n",
       "      <td>...</td>\n",
       "      <td>...</td>\n",
       "    </tr>\n",
       "    <tr>\n",
       "      <th>28813</th>\n",
       "      <td>-1.381086</td>\n",
       "      <td>0.499202</td>\n",
       "      <td>-1.408541</td>\n",
       "      <td>-1.256875</td>\n",
       "      <td>1.775772</td>\n",
       "      <td>1.494401</td>\n",
       "      <td>-0.309741</td>\n",
       "      <td>0.615422</td>\n",
       "      <td>1.630537</td>\n",
       "      <td>-1.017564</td>\n",
       "      <td>-0.465711</td>\n",
       "      <td>0.295758</td>\n",
       "      <td>-1.166328</td>\n",
       "      <td>0.431822</td>\n",
       "      <td>-0.271122</td>\n",
       "      <td>-1.425826</td>\n",
       "      <td>1</td>\n",
       "    </tr>\n",
       "    <tr>\n",
       "      <th>28814</th>\n",
       "      <td>-1.381086</td>\n",
       "      <td>0.499202</td>\n",
       "      <td>-1.257890</td>\n",
       "      <td>-1.215271</td>\n",
       "      <td>1.841166</td>\n",
       "      <td>-2.565078</td>\n",
       "      <td>-0.309741</td>\n",
       "      <td>0.615422</td>\n",
       "      <td>1.630537</td>\n",
       "      <td>-1.017564</td>\n",
       "      <td>-0.465711</td>\n",
       "      <td>0.295758</td>\n",
       "      <td>-1.271479</td>\n",
       "      <td>-0.657358</td>\n",
       "      <td>0.166829</td>\n",
       "      <td>-1.425826</td>\n",
       "      <td>1</td>\n",
       "    </tr>\n",
       "    <tr>\n",
       "      <th>28815</th>\n",
       "      <td>-1.381086</td>\n",
       "      <td>0.499202</td>\n",
       "      <td>1.395244</td>\n",
       "      <td>1.297832</td>\n",
       "      <td>1.893481</td>\n",
       "      <td>1.233806</td>\n",
       "      <td>-0.309741</td>\n",
       "      <td>0.615422</td>\n",
       "      <td>1.630537</td>\n",
       "      <td>-1.017564</td>\n",
       "      <td>-0.465711</td>\n",
       "      <td>0.295758</td>\n",
       "      <td>-1.271479</td>\n",
       "      <td>-0.657358</td>\n",
       "      <td>0.020845</td>\n",
       "      <td>-1.425826</td>\n",
       "      <td>1</td>\n",
       "    </tr>\n",
       "    <tr>\n",
       "      <th>28816</th>\n",
       "      <td>-1.381086</td>\n",
       "      <td>0.499202</td>\n",
       "      <td>-0.010833</td>\n",
       "      <td>0.371301</td>\n",
       "      <td>1.939257</td>\n",
       "      <td>-1.881742</td>\n",
       "      <td>-0.309741</td>\n",
       "      <td>0.615422</td>\n",
       "      <td>1.630537</td>\n",
       "      <td>-1.017564</td>\n",
       "      <td>-0.465711</td>\n",
       "      <td>0.295758</td>\n",
       "      <td>-1.271479</td>\n",
       "      <td>-0.657358</td>\n",
       "      <td>-1.147024</td>\n",
       "      <td>-1.425826</td>\n",
       "      <td>1</td>\n",
       "    </tr>\n",
       "    <tr>\n",
       "      <th>28817</th>\n",
       "      <td>-1.381086</td>\n",
       "      <td>0.499202</td>\n",
       "      <td>-0.002464</td>\n",
       "      <td>0.346564</td>\n",
       "      <td>1.991572</td>\n",
       "      <td>-1.815146</td>\n",
       "      <td>-0.309741</td>\n",
       "      <td>0.615422</td>\n",
       "      <td>1.630537</td>\n",
       "      <td>-1.017564</td>\n",
       "      <td>-0.465711</td>\n",
       "      <td>0.295758</td>\n",
       "      <td>-1.271479</td>\n",
       "      <td>-0.657358</td>\n",
       "      <td>-0.855057</td>\n",
       "      <td>-1.425826</td>\n",
       "      <td>0</td>\n",
       "    </tr>\n",
       "  </tbody>\n",
       "</table>\n",
       "<p>28818 rows × 17 columns</p>\n",
       "</div>"
      ],
      "text/plain": [
       "          MONTH  DAY_OF_WEEK  CRS_ELAPSED_TIME  DISTANCE  DEP_TIME_M  \\\n",
       "0      0.622243     0.499202         -0.847784 -0.710402   -1.654133   \n",
       "1      0.622243     0.499202          1.219484  1.357427   -1.621436   \n",
       "2      0.622243     0.499202         -0.370722 -0.223523   -1.595279   \n",
       "3      0.622243     0.499202         -0.479526 -0.364077   -1.588739   \n",
       "4      0.622243     0.499202         -0.722242 -0.570972   -1.546233   \n",
       "...         ...          ...               ...       ...         ...   \n",
       "28813 -1.381086     0.499202         -1.408541 -1.256875    1.775772   \n",
       "28814 -1.381086     0.499202         -1.257890 -1.215271    1.841166   \n",
       "28815 -1.381086     0.499202          1.395244  1.297832    1.893481   \n",
       "28816 -1.381086     0.499202         -0.010833  0.371301    1.939257   \n",
       "28817 -1.381086     0.499202         -0.002464  0.346564    1.991572   \n",
       "\n",
       "       CRS_ARR_M  Temperature  Dew Point  Humidity  Wind Speed  Wind Gust  \\\n",
       "0      -1.340285     0.809334   0.290565  0.011385    2.018279   2.731173   \n",
       "1      -1.099959     0.809334   0.290565  0.011385    2.018279   2.731173   \n",
       "2      -1.241838     0.809334   0.290565  0.011385    2.018279   2.731173   \n",
       "3      -1.152078     0.809334   0.290565  0.011385    2.018279   2.731173   \n",
       "4      -1.192615     0.560651   0.128137  0.011385    1.858498   2.478788   \n",
       "...          ...          ...        ...       ...         ...        ...   \n",
       "28813   1.494401    -0.309741   0.615422  1.630537   -1.017564  -0.465711   \n",
       "28814  -2.565078    -0.309741   0.615422  1.630537   -1.017564  -0.465711   \n",
       "28815   1.233806    -0.309741   0.615422  1.630537   -1.017564  -0.465711   \n",
       "28816  -1.881742    -0.309741   0.615422  1.630537   -1.017564  -0.465711   \n",
       "28817  -1.815146    -0.309741   0.615422  1.630537   -1.017564  -0.465711   \n",
       "\n",
       "       Pressure   sch_dep   sch_arr  TAXI_OUT     clime  DELAY_STATUS  \n",
       "0     -0.784764 -2.322987 -1.383478 -1.001041 -0.875884             0  \n",
       "1     -0.784764 -2.322987 -1.383478 -0.855057 -0.875884             0  \n",
       "2     -0.784764 -2.322987 -1.383478  0.166829 -0.875884             1  \n",
       "3     -0.784764 -2.322987 -1.383478 -1.293008 -0.875884             0  \n",
       "4     -0.615933 -2.322987 -1.383478 -1.147024 -0.875884             0  \n",
       "...         ...       ...       ...       ...       ...           ...  \n",
       "28813  0.295758 -1.166328  0.431822 -0.271122 -1.425826             1  \n",
       "28814  0.295758 -1.271479 -0.657358  0.166829 -1.425826             1  \n",
       "28815  0.295758 -1.271479 -0.657358  0.020845 -1.425826             1  \n",
       "28816  0.295758 -1.271479 -0.657358 -1.147024 -1.425826             1  \n",
       "28817  0.295758 -1.271479 -0.657358 -0.855057 -1.425826             0  \n",
       "\n",
       "[28818 rows x 17 columns]"
      ]
     },
     "execution_count": 5,
     "metadata": {},
     "output_type": "execute_result"
    }
   ],
   "source": [
    "df"
   ]
  },
  {
   "cell_type": "markdown",
   "id": "971ffb8b-dd8a-4b6c-876f-52d66d14177b",
   "metadata": {},
   "source": [
    "# MODELO KNN "
   ]
  },
  {
   "cell_type": "markdown",
   "id": "b26f3c59-02fa-4185-ad49-49f61d5dd7bc",
   "metadata": {},
   "source": [
    "### DAY OF WEEK , DISTANCE , CLIME"
   ]
  },
  {
   "cell_type": "code",
   "execution_count": 6,
   "id": "b80bf382-af05-45c0-8a1a-d964bcdf076e",
   "metadata": {},
   "outputs": [],
   "source": [
    "columnas_x =[ 'DAY_OF_WEEK' , 'DISTANCE' , 'clime']"
   ]
  },
  {
   "cell_type": "code",
   "execution_count": 7,
   "id": "37b500ea-c463-4c52-8128-045f960a7cbe",
   "metadata": {},
   "outputs": [],
   "source": [
    "X = df[columnas_x]"
   ]
  },
  {
   "cell_type": "code",
   "execution_count": 8,
   "id": "df84fb0e-396b-4e2b-b2b2-9e77490b69b8",
   "metadata": {},
   "outputs": [],
   "source": [
    "y = df['DELAY_STATUS']"
   ]
  },
  {
   "cell_type": "code",
   "execution_count": 9,
   "id": "d2f01296-df1e-46ed-931d-b7cb94da8e30",
   "metadata": {},
   "outputs": [],
   "source": [
    "X.columns = X.columns.astype(str)\n",
    "# lo volvemos str para que nos guarde en nombre de las columnas"
   ]
  },
  {
   "cell_type": "code",
   "execution_count": 10,
   "id": "cc133383-acd7-402f-ab79-691c20cfcd95",
   "metadata": {},
   "outputs": [],
   "source": [
    "## hacemos nuestro Train.\n",
    "X_train, X_test, y_train, y_test = train_test_split(X, y, test_size=0.25, random_state=100)"
   ]
  },
  {
   "cell_type": "code",
   "execution_count": 11,
   "id": "728475ac-a8f4-4781-bddf-0427441782b5",
   "metadata": {},
   "outputs": [
    {
     "data": {
      "text/plain": [
       "((21613, 3), (7205, 3))"
      ]
     },
     "execution_count": 11,
     "metadata": {},
     "output_type": "execute_result"
    }
   ],
   "source": [
    "X_train.shape , X_test.shape"
   ]
  },
  {
   "cell_type": "markdown",
   "id": "27e541d5-6508-4d4e-814c-149d1f4802fd",
   "metadata": {},
   "source": [
    "## K= 3"
   ]
  },
  {
   "cell_type": "code",
   "execution_count": 12,
   "id": "b1fa0185-bbf6-4ca6-83a1-5d7cf3d572c7",
   "metadata": {},
   "outputs": [],
   "source": [
    "from sklearn.neighbors import KNeighborsClassifier"
   ]
  },
  {
   "cell_type": "code",
   "execution_count": 13,
   "id": "2c4bb0a7-e22d-46a5-8dd0-a761265961ab",
   "metadata": {},
   "outputs": [],
   "source": [
    "k = 3\n",
    "knn_classifier = KNeighborsClassifier(n_neighbors=k)"
   ]
  },
  {
   "cell_type": "code",
   "execution_count": 14,
   "id": "cc1fb4b2-692b-4c19-830e-8841a4785248",
   "metadata": {},
   "outputs": [
    {
     "data": {
      "text/plain": [
       "KNeighborsClassifier(n_neighbors=3)"
      ]
     },
     "execution_count": 14,
     "metadata": {},
     "output_type": "execute_result"
    }
   ],
   "source": [
    "knn_classifier.fit(X_train, y_train)"
   ]
  },
  {
   "cell_type": "code",
   "execution_count": 15,
   "id": "6c8ad96b-fd95-43d6-9f87-f35146ef7b75",
   "metadata": {},
   "outputs": [],
   "source": [
    "y_pred = knn_classifier.predict(X_test)"
   ]
  },
  {
   "cell_type": "code",
   "execution_count": 16,
   "id": "6f36487c-67da-4e37-a995-2eba25a0b0a0",
   "metadata": {},
   "outputs": [
    {
     "name": "stdout",
     "output_type": "stream",
     "text": [
      "Precisión del modelo k-NN con k=3: 0.61\n"
     ]
    }
   ],
   "source": [
    "accuracy = metrics.accuracy_score(y_test, y_pred)\n",
    "print(f\"Precisión del modelo k-NN con k={k}: {accuracy:.2f}\")"
   ]
  },
  {
   "cell_type": "markdown",
   "id": "256f43f7-568d-4c01-804f-5a2c2f27ae6c",
   "metadata": {},
   "source": [
    "### K = 10"
   ]
  },
  {
   "cell_type": "code",
   "execution_count": 17,
   "id": "e165dbb7-de81-40e5-befb-49b555c95b9c",
   "metadata": {},
   "outputs": [],
   "source": [
    "k = 10\n",
    "knn_classifier = KNeighborsClassifier(n_neighbors=k)"
   ]
  },
  {
   "cell_type": "code",
   "execution_count": 18,
   "id": "58ec7cf0-2974-4db2-8775-e10d91c159d1",
   "metadata": {},
   "outputs": [
    {
     "data": {
      "text/plain": [
       "KNeighborsClassifier(n_neighbors=10)"
      ]
     },
     "execution_count": 18,
     "metadata": {},
     "output_type": "execute_result"
    }
   ],
   "source": [
    "knn_classifier.fit(X_train, y_train)"
   ]
  },
  {
   "cell_type": "code",
   "execution_count": 19,
   "id": "ccf43360-14fd-4016-928c-b9a6b5a8e720",
   "metadata": {},
   "outputs": [],
   "source": [
    "y_pred = knn_classifier.predict(X_test)"
   ]
  },
  {
   "cell_type": "code",
   "execution_count": 20,
   "id": "15228016-db06-4d78-9427-a766462d3568",
   "metadata": {},
   "outputs": [
    {
     "name": "stdout",
     "output_type": "stream",
     "text": [
      "Precisión del modelo k-NN con k=10: 0.66\n"
     ]
    }
   ],
   "source": [
    "accuracy = metrics.accuracy_score(y_test, y_pred)\n",
    "print(f\"Precisión del modelo k-NN con k={k}: {accuracy:.2f}\")"
   ]
  },
  {
   "cell_type": "markdown",
   "id": "be50d3b5-d0e1-4bfe-bc13-bc6a17b36c84",
   "metadata": {},
   "source": [
    "## K=16"
   ]
  },
  {
   "cell_type": "code",
   "execution_count": 21,
   "id": "2794d486-681b-4306-979f-77ebe790567b",
   "metadata": {},
   "outputs": [],
   "source": [
    "k = 16\n",
    "knn_classifier = KNeighborsClassifier(n_neighbors=k)"
   ]
  },
  {
   "cell_type": "code",
   "execution_count": 22,
   "id": "f44663cd-eefd-4380-a895-4322a4aaf299",
   "metadata": {},
   "outputs": [
    {
     "data": {
      "text/plain": [
       "KNeighborsClassifier(n_neighbors=16)"
      ]
     },
     "execution_count": 22,
     "metadata": {},
     "output_type": "execute_result"
    }
   ],
   "source": [
    "knn_classifier.fit(X_train, y_train)"
   ]
  },
  {
   "cell_type": "code",
   "execution_count": 23,
   "id": "69cf417f-5745-4704-8060-9931f1d9dfaf",
   "metadata": {},
   "outputs": [],
   "source": [
    "y_pred = knn_classifier.predict(X_test)"
   ]
  },
  {
   "cell_type": "code",
   "execution_count": 24,
   "id": "631cd0cd-4bc4-4ded-9fda-f65db1a1235a",
   "metadata": {},
   "outputs": [
    {
     "name": "stdout",
     "output_type": "stream",
     "text": [
      "Precisión del modelo k-NN con k=16: 0.67\n"
     ]
    }
   ],
   "source": [
    "accuracy = metrics.accuracy_score(y_test, y_pred)\n",
    "print(f\"Precisión del modelo k-NN con k={k}: {accuracy:.2f}\")"
   ]
  },
  {
   "cell_type": "markdown",
   "id": "1b0c4940-c435-4f9f-8bc3-7508726b4ba3",
   "metadata": {},
   "source": [
    "## MONTH, DAY OF WEEK , Wind Speed, Pressure"
   ]
  },
  {
   "cell_type": "code",
   "execution_count": 25,
   "id": "aaba776d-04ce-4cc4-b34d-fc614b5e8593",
   "metadata": {},
   "outputs": [],
   "source": [
    "columnas_x =[ 'MONTH','DAY_OF_WEEK' , 'Wind Speed', 'Pressure' ]"
   ]
  },
  {
   "cell_type": "code",
   "execution_count": 26,
   "id": "d8b767f4-186e-48cf-bd2f-3e5e516c4671",
   "metadata": {},
   "outputs": [],
   "source": [
    "X = df[columnas_x]"
   ]
  },
  {
   "cell_type": "code",
   "execution_count": 27,
   "id": "fdfa37ca-9936-407e-a282-09941d631c0a",
   "metadata": {},
   "outputs": [],
   "source": [
    "y = df['DELAY_STATUS']"
   ]
  },
  {
   "cell_type": "code",
   "execution_count": 28,
   "id": "030c58c7-1433-46fe-87a5-b684bdc58413",
   "metadata": {},
   "outputs": [],
   "source": [
    "X.columns = X.columns.astype(str)"
   ]
  },
  {
   "cell_type": "code",
   "execution_count": 29,
   "id": "2c56f214-c456-4a53-80ff-619a35bf86f9",
   "metadata": {},
   "outputs": [],
   "source": [
    "X_train, X_test, y_train, y_test = train_test_split(X, y, test_size=0.25, random_state=100)"
   ]
  },
  {
   "cell_type": "code",
   "execution_count": 30,
   "id": "a0bf3fb5-4326-43fd-ab10-5bbba30cbcf5",
   "metadata": {},
   "outputs": [
    {
     "data": {
      "text/plain": [
       "((21613, 4), (7205, 4))"
      ]
     },
     "execution_count": 30,
     "metadata": {},
     "output_type": "execute_result"
    }
   ],
   "source": [
    "X_train.shape , X_test.shape"
   ]
  },
  {
   "cell_type": "markdown",
   "id": "cd962a97-745f-45cc-bc1f-4962fb6ae6f4",
   "metadata": {},
   "source": [
    "## k= 30"
   ]
  },
  {
   "cell_type": "code",
   "execution_count": 31,
   "id": "b836b157-e664-45d5-896d-880f076f6b90",
   "metadata": {},
   "outputs": [],
   "source": [
    "k = 30\n",
    "knn_classifier = KNeighborsClassifier(n_neighbors=k)"
   ]
  },
  {
   "cell_type": "code",
   "execution_count": 32,
   "id": "9bc5ae9e-6b72-4c3b-aa98-12111a81d8fd",
   "metadata": {},
   "outputs": [
    {
     "data": {
      "text/plain": [
       "KNeighborsClassifier(n_neighbors=30)"
      ]
     },
     "execution_count": 32,
     "metadata": {},
     "output_type": "execute_result"
    }
   ],
   "source": [
    "knn_classifier.fit(X_train, y_train)"
   ]
  },
  {
   "cell_type": "code",
   "execution_count": 33,
   "id": "3ee4f0cb-dcd0-4d72-82db-59c3f40473c8",
   "metadata": {},
   "outputs": [],
   "source": [
    "y_pred = knn_classifier.predict(X_test)"
   ]
  },
  {
   "cell_type": "code",
   "execution_count": 34,
   "id": "0ab9c7e7-309c-4afc-a79b-874d5ed3652a",
   "metadata": {},
   "outputs": [
    {
     "name": "stdout",
     "output_type": "stream",
     "text": [
      "Precisión del modelo k-NN con k=30: 0.70\n"
     ]
    }
   ],
   "source": [
    "accuracy = metrics.accuracy_score(y_test, y_pred)\n",
    "print(f\"Precisión del modelo k-NN con k={k}: {accuracy:.2f}\")"
   ]
  },
  {
   "cell_type": "markdown",
   "id": "2d75e188-634d-4486-be89-c36f9118c4a6",
   "metadata": {},
   "source": [
    "## -Weather conditions (Temperature, Dew Point, Humidity, Wind Speed, Wind Gust, Pressure, Clime).\n",
    "## - DEP_TIME_M\n",
    "## - Date of the flight (month, day of the week)."
   ]
  },
  {
   "cell_type": "code",
   "execution_count": 35,
   "id": "e5c41170-4c02-45a5-962f-3d793b6c8341",
   "metadata": {},
   "outputs": [],
   "source": [
    "columnas_x =[ 'MONTH','DAY_OF_WEEK' ,'DEP_TIME_M' ,  'Wind Speed', 'Pressure' , 'clime', 'Dew Point',\t\n",
    "             'Humidity',\t'Wind Gust' , 'Temperature' ]"
   ]
  },
  {
   "cell_type": "code",
   "execution_count": 36,
   "id": "fb5ee27a-111f-48a8-baf0-2b638d894ec3",
   "metadata": {},
   "outputs": [],
   "source": [
    "X = df[columnas_x]"
   ]
  },
  {
   "cell_type": "code",
   "execution_count": 37,
   "id": "709a3874-18a9-42fe-9ad9-dea208b85cd8",
   "metadata": {},
   "outputs": [],
   "source": [
    "y = df['DELAY_STATUS']"
   ]
  },
  {
   "cell_type": "code",
   "execution_count": 38,
   "id": "04ce72db-4343-4a1a-bf46-3962391e987e",
   "metadata": {},
   "outputs": [],
   "source": [
    "X.columns = X.columns.astype(str)"
   ]
  },
  {
   "cell_type": "code",
   "execution_count": 39,
   "id": "00bcd7df-c808-436d-9b27-a8470c10d9ef",
   "metadata": {},
   "outputs": [],
   "source": [
    "X_train, X_test, y_train, y_test = train_test_split(X, y, test_size=0.25, random_state=100)"
   ]
  },
  {
   "cell_type": "code",
   "execution_count": 40,
   "id": "764bae6e-9a43-4640-bac1-d3ae949acfd7",
   "metadata": {},
   "outputs": [
    {
     "data": {
      "text/plain": [
       "((21613, 10), (7205, 10))"
      ]
     },
     "execution_count": 40,
     "metadata": {},
     "output_type": "execute_result"
    }
   ],
   "source": [
    "X_train.shape , X_test.shape"
   ]
  },
  {
   "cell_type": "markdown",
   "id": "6065e236-46dc-45af-9866-8dd06a51e120",
   "metadata": {},
   "source": [
    "## K= 60"
   ]
  },
  {
   "cell_type": "code",
   "execution_count": 46,
   "id": "d56ca3d7-1a1a-429e-9187-73522c9b9232",
   "metadata": {},
   "outputs": [],
   "source": [
    "k = 60\n",
    "knn_classifier = KNeighborsClassifier(n_neighbors=k)"
   ]
  },
  {
   "cell_type": "code",
   "execution_count": 47,
   "id": "8c87d30d-d519-43dd-af07-b323905c966e",
   "metadata": {},
   "outputs": [],
   "source": [
    "knn_classifier = KNeighborsClassifier(n_neighbors=k)"
   ]
  },
  {
   "cell_type": "code",
   "execution_count": 48,
   "id": "db783076-1287-4d66-a80a-d3aa4a5e45fc",
   "metadata": {},
   "outputs": [
    {
     "data": {
      "text/plain": [
       "KNeighborsClassifier(n_neighbors=60)"
      ]
     },
     "execution_count": 48,
     "metadata": {},
     "output_type": "execute_result"
    }
   ],
   "source": [
    "knn_classifier.fit(X_train, y_train)"
   ]
  },
  {
   "cell_type": "code",
   "execution_count": 49,
   "id": "6de4084e-1795-47ef-96b7-8dc5c238f74b",
   "metadata": {},
   "outputs": [],
   "source": [
    "y_pred = knn_classifier.predict(X_test)"
   ]
  },
  {
   "cell_type": "code",
   "execution_count": 50,
   "id": "8111d5aa-6227-4a7e-acff-eb1aade6cb17",
   "metadata": {},
   "outputs": [
    {
     "name": "stdout",
     "output_type": "stream",
     "text": [
      "Precisión del modelo k-NN con k=60: 0.70\n"
     ]
    }
   ],
   "source": [
    "accuracy = metrics.accuracy_score(y_test, y_pred)\n",
    "print(f\"Precisión del modelo k-NN con k={k}: {accuracy:.2f}\")"
   ]
  },
  {
   "cell_type": "code",
   "execution_count": null,
   "id": "72386754-644b-461c-803a-592d20fa4734",
   "metadata": {},
   "outputs": [],
   "source": []
  }
 ],
 "metadata": {
  "kernelspec": {
   "display_name": "Python 3 (ipykernel)",
   "language": "python",
   "name": "python3"
  },
  "language_info": {
   "codemirror_mode": {
    "name": "ipython",
    "version": 3
   },
   "file_extension": ".py",
   "mimetype": "text/x-python",
   "name": "python",
   "nbconvert_exporter": "python",
   "pygments_lexer": "ipython3",
   "version": "3.9.13"
  }
 },
 "nbformat": 4,
 "nbformat_minor": 5
}
