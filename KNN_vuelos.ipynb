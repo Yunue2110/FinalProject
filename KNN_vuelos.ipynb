{
 "cells": [
  {
   "cell_type": "code",
   "execution_count": 1,
   "id": "511f0037-3ab9-4b58-ba66-3b8370ddc196",
   "metadata": {},
   "outputs": [],
   "source": [
    "import pandas as pd\n",
    "import seaborn as sns\n",
    "import matplotlib.pyplot as plt\n",
    "import numpy as np\n",
    "\n",
    "\n",
    "from sklearn import metrics\n",
    "from sklearn.preprocessing import StandardScaler\n",
    "from sklearn.preprocessing import OneHotEncoder\n",
    "from sklearn.model_selection import train_test_split"
   ]
  },
  {
   "cell_type": "code",
   "execution_count": 2,
   "id": "b1fa0185-bbf6-4ca6-83a1-5d7cf3d572c7",
   "metadata": {},
   "outputs": [],
   "source": [
    "from sklearn.neighbors import KNeighborsClassifier"
   ]
  },
  {
   "cell_type": "code",
   "execution_count": 3,
   "id": "b963e418-083a-46e8-8d56-8c936b992350",
   "metadata": {},
   "outputs": [
    {
     "data": {
      "text/html": [
       "<div>\n",
       "<style scoped>\n",
       "    .dataframe tbody tr th:only-of-type {\n",
       "        vertical-align: middle;\n",
       "    }\n",
       "\n",
       "    .dataframe tbody tr th {\n",
       "        vertical-align: top;\n",
       "    }\n",
       "\n",
       "    .dataframe thead th {\n",
       "        text-align: right;\n",
       "    }\n",
       "</style>\n",
       "<table border=\"1\" class=\"dataframe\">\n",
       "  <thead>\n",
       "    <tr style=\"text-align: right;\">\n",
       "      <th></th>\n",
       "      <th>MONTH</th>\n",
       "      <th>DAY_OF_WEEK</th>\n",
       "      <th>CRS_ELAPSED_TIME</th>\n",
       "      <th>DISTANCE</th>\n",
       "      <th>DEP_TIME_M</th>\n",
       "      <th>CRS_ARR_M</th>\n",
       "      <th>Temperature</th>\n",
       "      <th>Dew Point</th>\n",
       "      <th>Humidity</th>\n",
       "      <th>Wind Speed</th>\n",
       "      <th>Wind Gust</th>\n",
       "      <th>Pressure</th>\n",
       "      <th>sch_dep</th>\n",
       "      <th>sch_arr</th>\n",
       "      <th>TAXI_OUT</th>\n",
       "      <th>clime</th>\n",
       "      <th>DEST</th>\n",
       "      <th>Condition</th>\n",
       "      <th>DELAY_STATUS</th>\n",
       "    </tr>\n",
       "  </thead>\n",
       "  <tbody>\n",
       "    <tr>\n",
       "      <th>0</th>\n",
       "      <td>0.622243</td>\n",
       "      <td>0.499202</td>\n",
       "      <td>-0.847784</td>\n",
       "      <td>-0.710402</td>\n",
       "      <td>-1.654133</td>\n",
       "      <td>-1.340285</td>\n",
       "      <td>0.809334</td>\n",
       "      <td>0.290565</td>\n",
       "      <td>0.011385</td>\n",
       "      <td>2.018279</td>\n",
       "      <td>2.731173</td>\n",
       "      <td>-0.784764</td>\n",
       "      <td>-2.322987</td>\n",
       "      <td>-1.383478</td>\n",
       "      <td>-1.001041</td>\n",
       "      <td>-0.875884</td>\n",
       "      <td>CHS</td>\n",
       "      <td>Fair / Windy</td>\n",
       "      <td>0</td>\n",
       "    </tr>\n",
       "    <tr>\n",
       "      <th>1</th>\n",
       "      <td>0.622243</td>\n",
       "      <td>0.499202</td>\n",
       "      <td>1.219484</td>\n",
       "      <td>1.357427</td>\n",
       "      <td>-1.621436</td>\n",
       "      <td>-1.099959</td>\n",
       "      <td>0.809334</td>\n",
       "      <td>0.290565</td>\n",
       "      <td>0.011385</td>\n",
       "      <td>2.018279</td>\n",
       "      <td>2.731173</td>\n",
       "      <td>-0.784764</td>\n",
       "      <td>-2.322987</td>\n",
       "      <td>-1.383478</td>\n",
       "      <td>-0.855057</td>\n",
       "      <td>-0.875884</td>\n",
       "      <td>LAX</td>\n",
       "      <td>Fair / Windy</td>\n",
       "      <td>0</td>\n",
       "    </tr>\n",
       "    <tr>\n",
       "      <th>2</th>\n",
       "      <td>0.622243</td>\n",
       "      <td>0.499202</td>\n",
       "      <td>-0.370722</td>\n",
       "      <td>-0.223523</td>\n",
       "      <td>-1.595279</td>\n",
       "      <td>-1.241838</td>\n",
       "      <td>0.809334</td>\n",
       "      <td>0.290565</td>\n",
       "      <td>0.011385</td>\n",
       "      <td>2.018279</td>\n",
       "      <td>2.731173</td>\n",
       "      <td>-0.784764</td>\n",
       "      <td>-2.322987</td>\n",
       "      <td>-1.383478</td>\n",
       "      <td>0.166829</td>\n",
       "      <td>-0.875884</td>\n",
       "      <td>FLL</td>\n",
       "      <td>Fair / Windy</td>\n",
       "      <td>1</td>\n",
       "    </tr>\n",
       "    <tr>\n",
       "      <th>3</th>\n",
       "      <td>0.622243</td>\n",
       "      <td>0.499202</td>\n",
       "      <td>-0.479526</td>\n",
       "      <td>-0.364077</td>\n",
       "      <td>-1.588739</td>\n",
       "      <td>-1.152078</td>\n",
       "      <td>0.809334</td>\n",
       "      <td>0.290565</td>\n",
       "      <td>0.011385</td>\n",
       "      <td>2.018279</td>\n",
       "      <td>2.731173</td>\n",
       "      <td>-0.784764</td>\n",
       "      <td>-2.322987</td>\n",
       "      <td>-1.383478</td>\n",
       "      <td>-1.293008</td>\n",
       "      <td>-0.875884</td>\n",
       "      <td>MCO</td>\n",
       "      <td>Fair / Windy</td>\n",
       "      <td>0</td>\n",
       "    </tr>\n",
       "    <tr>\n",
       "      <th>4</th>\n",
       "      <td>0.622243</td>\n",
       "      <td>0.499202</td>\n",
       "      <td>-0.722242</td>\n",
       "      <td>-0.570972</td>\n",
       "      <td>-1.546233</td>\n",
       "      <td>-1.192615</td>\n",
       "      <td>0.560651</td>\n",
       "      <td>0.128137</td>\n",
       "      <td>0.011385</td>\n",
       "      <td>1.858498</td>\n",
       "      <td>2.478788</td>\n",
       "      <td>-0.615933</td>\n",
       "      <td>-2.322987</td>\n",
       "      <td>-1.383478</td>\n",
       "      <td>-1.147024</td>\n",
       "      <td>-0.875884</td>\n",
       "      <td>ATL</td>\n",
       "      <td>Fair / Windy</td>\n",
       "      <td>0</td>\n",
       "    </tr>\n",
       "    <tr>\n",
       "      <th>...</th>\n",
       "      <td>...</td>\n",
       "      <td>...</td>\n",
       "      <td>...</td>\n",
       "      <td>...</td>\n",
       "      <td>...</td>\n",
       "      <td>...</td>\n",
       "      <td>...</td>\n",
       "      <td>...</td>\n",
       "      <td>...</td>\n",
       "      <td>...</td>\n",
       "      <td>...</td>\n",
       "      <td>...</td>\n",
       "      <td>...</td>\n",
       "      <td>...</td>\n",
       "      <td>...</td>\n",
       "      <td>...</td>\n",
       "      <td>...</td>\n",
       "      <td>...</td>\n",
       "      <td>...</td>\n",
       "    </tr>\n",
       "    <tr>\n",
       "      <th>28813</th>\n",
       "      <td>-1.381086</td>\n",
       "      <td>0.499202</td>\n",
       "      <td>-1.408541</td>\n",
       "      <td>-1.256875</td>\n",
       "      <td>1.775772</td>\n",
       "      <td>1.494401</td>\n",
       "      <td>-0.309741</td>\n",
       "      <td>0.615422</td>\n",
       "      <td>1.630537</td>\n",
       "      <td>-1.017564</td>\n",
       "      <td>-0.465711</td>\n",
       "      <td>0.295758</td>\n",
       "      <td>-1.166328</td>\n",
       "      <td>0.431822</td>\n",
       "      <td>-0.271122</td>\n",
       "      <td>-1.425826</td>\n",
       "      <td>ORH</td>\n",
       "      <td>Cloudy</td>\n",
       "      <td>1</td>\n",
       "    </tr>\n",
       "    <tr>\n",
       "      <th>28814</th>\n",
       "      <td>-1.381086</td>\n",
       "      <td>0.499202</td>\n",
       "      <td>-1.257890</td>\n",
       "      <td>-1.215271</td>\n",
       "      <td>1.841166</td>\n",
       "      <td>-2.565078</td>\n",
       "      <td>-0.309741</td>\n",
       "      <td>0.615422</td>\n",
       "      <td>1.630537</td>\n",
       "      <td>-1.017564</td>\n",
       "      <td>-0.465711</td>\n",
       "      <td>0.295758</td>\n",
       "      <td>-1.271479</td>\n",
       "      <td>-0.657358</td>\n",
       "      <td>0.166829</td>\n",
       "      <td>-1.425826</td>\n",
       "      <td>BOS</td>\n",
       "      <td>Cloudy</td>\n",
       "      <td>1</td>\n",
       "    </tr>\n",
       "    <tr>\n",
       "      <th>28815</th>\n",
       "      <td>-1.381086</td>\n",
       "      <td>0.499202</td>\n",
       "      <td>1.395244</td>\n",
       "      <td>1.297832</td>\n",
       "      <td>1.893481</td>\n",
       "      <td>1.233806</td>\n",
       "      <td>-0.309741</td>\n",
       "      <td>0.615422</td>\n",
       "      <td>1.630537</td>\n",
       "      <td>-1.017564</td>\n",
       "      <td>-0.465711</td>\n",
       "      <td>0.295758</td>\n",
       "      <td>-1.271479</td>\n",
       "      <td>-0.657358</td>\n",
       "      <td>0.020845</td>\n",
       "      <td>-1.425826</td>\n",
       "      <td>SEA</td>\n",
       "      <td>Cloudy</td>\n",
       "      <td>1</td>\n",
       "    </tr>\n",
       "    <tr>\n",
       "      <th>28816</th>\n",
       "      <td>-1.381086</td>\n",
       "      <td>0.499202</td>\n",
       "      <td>-0.010833</td>\n",
       "      <td>0.371301</td>\n",
       "      <td>1.939257</td>\n",
       "      <td>-1.881742</td>\n",
       "      <td>-0.309741</td>\n",
       "      <td>0.615422</td>\n",
       "      <td>1.630537</td>\n",
       "      <td>-1.017564</td>\n",
       "      <td>-0.465711</td>\n",
       "      <td>0.295758</td>\n",
       "      <td>-1.271479</td>\n",
       "      <td>-0.657358</td>\n",
       "      <td>-1.147024</td>\n",
       "      <td>-1.425826</td>\n",
       "      <td>SJU</td>\n",
       "      <td>Cloudy</td>\n",
       "      <td>1</td>\n",
       "    </tr>\n",
       "    <tr>\n",
       "      <th>28817</th>\n",
       "      <td>-1.381086</td>\n",
       "      <td>0.499202</td>\n",
       "      <td>-0.002464</td>\n",
       "      <td>0.346564</td>\n",
       "      <td>1.991572</td>\n",
       "      <td>-1.815146</td>\n",
       "      <td>-0.309741</td>\n",
       "      <td>0.615422</td>\n",
       "      <td>1.630537</td>\n",
       "      <td>-1.017564</td>\n",
       "      <td>-0.465711</td>\n",
       "      <td>0.295758</td>\n",
       "      <td>-1.271479</td>\n",
       "      <td>-0.657358</td>\n",
       "      <td>-0.855057</td>\n",
       "      <td>-1.425826</td>\n",
       "      <td>BQN</td>\n",
       "      <td>Cloudy</td>\n",
       "      <td>0</td>\n",
       "    </tr>\n",
       "  </tbody>\n",
       "</table>\n",
       "<p>28818 rows × 19 columns</p>\n",
       "</div>"
      ],
      "text/plain": [
       "          MONTH  DAY_OF_WEEK  CRS_ELAPSED_TIME  DISTANCE  DEP_TIME_M  \\\n",
       "0      0.622243     0.499202         -0.847784 -0.710402   -1.654133   \n",
       "1      0.622243     0.499202          1.219484  1.357427   -1.621436   \n",
       "2      0.622243     0.499202         -0.370722 -0.223523   -1.595279   \n",
       "3      0.622243     0.499202         -0.479526 -0.364077   -1.588739   \n",
       "4      0.622243     0.499202         -0.722242 -0.570972   -1.546233   \n",
       "...         ...          ...               ...       ...         ...   \n",
       "28813 -1.381086     0.499202         -1.408541 -1.256875    1.775772   \n",
       "28814 -1.381086     0.499202         -1.257890 -1.215271    1.841166   \n",
       "28815 -1.381086     0.499202          1.395244  1.297832    1.893481   \n",
       "28816 -1.381086     0.499202         -0.010833  0.371301    1.939257   \n",
       "28817 -1.381086     0.499202         -0.002464  0.346564    1.991572   \n",
       "\n",
       "       CRS_ARR_M  Temperature  Dew Point  Humidity  Wind Speed  Wind Gust  \\\n",
       "0      -1.340285     0.809334   0.290565  0.011385    2.018279   2.731173   \n",
       "1      -1.099959     0.809334   0.290565  0.011385    2.018279   2.731173   \n",
       "2      -1.241838     0.809334   0.290565  0.011385    2.018279   2.731173   \n",
       "3      -1.152078     0.809334   0.290565  0.011385    2.018279   2.731173   \n",
       "4      -1.192615     0.560651   0.128137  0.011385    1.858498   2.478788   \n",
       "...          ...          ...        ...       ...         ...        ...   \n",
       "28813   1.494401    -0.309741   0.615422  1.630537   -1.017564  -0.465711   \n",
       "28814  -2.565078    -0.309741   0.615422  1.630537   -1.017564  -0.465711   \n",
       "28815   1.233806    -0.309741   0.615422  1.630537   -1.017564  -0.465711   \n",
       "28816  -1.881742    -0.309741   0.615422  1.630537   -1.017564  -0.465711   \n",
       "28817  -1.815146    -0.309741   0.615422  1.630537   -1.017564  -0.465711   \n",
       "\n",
       "       Pressure   sch_dep   sch_arr  TAXI_OUT     clime DEST     Condition  \\\n",
       "0     -0.784764 -2.322987 -1.383478 -1.001041 -0.875884  CHS  Fair / Windy   \n",
       "1     -0.784764 -2.322987 -1.383478 -0.855057 -0.875884  LAX  Fair / Windy   \n",
       "2     -0.784764 -2.322987 -1.383478  0.166829 -0.875884  FLL  Fair / Windy   \n",
       "3     -0.784764 -2.322987 -1.383478 -1.293008 -0.875884  MCO  Fair / Windy   \n",
       "4     -0.615933 -2.322987 -1.383478 -1.147024 -0.875884  ATL  Fair / Windy   \n",
       "...         ...       ...       ...       ...       ...  ...           ...   \n",
       "28813  0.295758 -1.166328  0.431822 -0.271122 -1.425826  ORH        Cloudy   \n",
       "28814  0.295758 -1.271479 -0.657358  0.166829 -1.425826  BOS        Cloudy   \n",
       "28815  0.295758 -1.271479 -0.657358  0.020845 -1.425826  SEA        Cloudy   \n",
       "28816  0.295758 -1.271479 -0.657358 -1.147024 -1.425826  SJU        Cloudy   \n",
       "28817  0.295758 -1.271479 -0.657358 -0.855057 -1.425826  BQN        Cloudy   \n",
       "\n",
       "       DELAY_STATUS  \n",
       "0                 0  \n",
       "1                 0  \n",
       "2                 1  \n",
       "3                 0  \n",
       "4                 0  \n",
       "...             ...  \n",
       "28813             1  \n",
       "28814             1  \n",
       "28815             1  \n",
       "28816             1  \n",
       "28817             0  \n",
       "\n",
       "[28818 rows x 19 columns]"
      ]
     },
     "execution_count": 3,
     "metadata": {},
     "output_type": "execute_result"
    }
   ],
   "source": [
    "df= pd.read_csv('final_vuelo.csv')\n",
    "df"
   ]
  },
  {
   "cell_type": "code",
   "execution_count": 4,
   "id": "8398e712-6784-4339-ab9c-0427f203761a",
   "metadata": {},
   "outputs": [],
   "source": [
    "columnas_drop =[ 'DEST' , 'Condition']"
   ]
  },
  {
   "cell_type": "code",
   "execution_count": 5,
   "id": "f5f91d30-03f4-448b-b34b-032e1b7b01e2",
   "metadata": {},
   "outputs": [],
   "source": [
    " df = df.drop(columnas_drop, axis=1)"
   ]
  },
  {
   "cell_type": "code",
   "execution_count": 6,
   "id": "d92c82fd-8b14-4e01-8d90-36c17dbc329b",
   "metadata": {},
   "outputs": [
    {
     "data": {
      "text/html": [
       "<div>\n",
       "<style scoped>\n",
       "    .dataframe tbody tr th:only-of-type {\n",
       "        vertical-align: middle;\n",
       "    }\n",
       "\n",
       "    .dataframe tbody tr th {\n",
       "        vertical-align: top;\n",
       "    }\n",
       "\n",
       "    .dataframe thead th {\n",
       "        text-align: right;\n",
       "    }\n",
       "</style>\n",
       "<table border=\"1\" class=\"dataframe\">\n",
       "  <thead>\n",
       "    <tr style=\"text-align: right;\">\n",
       "      <th></th>\n",
       "      <th>MONTH</th>\n",
       "      <th>DAY_OF_WEEK</th>\n",
       "      <th>CRS_ELAPSED_TIME</th>\n",
       "      <th>DISTANCE</th>\n",
       "      <th>DEP_TIME_M</th>\n",
       "      <th>CRS_ARR_M</th>\n",
       "      <th>Temperature</th>\n",
       "      <th>Dew Point</th>\n",
       "      <th>Humidity</th>\n",
       "      <th>Wind Speed</th>\n",
       "      <th>Wind Gust</th>\n",
       "      <th>Pressure</th>\n",
       "      <th>sch_dep</th>\n",
       "      <th>sch_arr</th>\n",
       "      <th>TAXI_OUT</th>\n",
       "      <th>clime</th>\n",
       "      <th>DELAY_STATUS</th>\n",
       "    </tr>\n",
       "  </thead>\n",
       "  <tbody>\n",
       "    <tr>\n",
       "      <th>0</th>\n",
       "      <td>0.622243</td>\n",
       "      <td>0.499202</td>\n",
       "      <td>-0.847784</td>\n",
       "      <td>-0.710402</td>\n",
       "      <td>-1.654133</td>\n",
       "      <td>-1.340285</td>\n",
       "      <td>0.809334</td>\n",
       "      <td>0.290565</td>\n",
       "      <td>0.011385</td>\n",
       "      <td>2.018279</td>\n",
       "      <td>2.731173</td>\n",
       "      <td>-0.784764</td>\n",
       "      <td>-2.322987</td>\n",
       "      <td>-1.383478</td>\n",
       "      <td>-1.001041</td>\n",
       "      <td>-0.875884</td>\n",
       "      <td>0</td>\n",
       "    </tr>\n",
       "    <tr>\n",
       "      <th>1</th>\n",
       "      <td>0.622243</td>\n",
       "      <td>0.499202</td>\n",
       "      <td>1.219484</td>\n",
       "      <td>1.357427</td>\n",
       "      <td>-1.621436</td>\n",
       "      <td>-1.099959</td>\n",
       "      <td>0.809334</td>\n",
       "      <td>0.290565</td>\n",
       "      <td>0.011385</td>\n",
       "      <td>2.018279</td>\n",
       "      <td>2.731173</td>\n",
       "      <td>-0.784764</td>\n",
       "      <td>-2.322987</td>\n",
       "      <td>-1.383478</td>\n",
       "      <td>-0.855057</td>\n",
       "      <td>-0.875884</td>\n",
       "      <td>0</td>\n",
       "    </tr>\n",
       "    <tr>\n",
       "      <th>2</th>\n",
       "      <td>0.622243</td>\n",
       "      <td>0.499202</td>\n",
       "      <td>-0.370722</td>\n",
       "      <td>-0.223523</td>\n",
       "      <td>-1.595279</td>\n",
       "      <td>-1.241838</td>\n",
       "      <td>0.809334</td>\n",
       "      <td>0.290565</td>\n",
       "      <td>0.011385</td>\n",
       "      <td>2.018279</td>\n",
       "      <td>2.731173</td>\n",
       "      <td>-0.784764</td>\n",
       "      <td>-2.322987</td>\n",
       "      <td>-1.383478</td>\n",
       "      <td>0.166829</td>\n",
       "      <td>-0.875884</td>\n",
       "      <td>1</td>\n",
       "    </tr>\n",
       "    <tr>\n",
       "      <th>3</th>\n",
       "      <td>0.622243</td>\n",
       "      <td>0.499202</td>\n",
       "      <td>-0.479526</td>\n",
       "      <td>-0.364077</td>\n",
       "      <td>-1.588739</td>\n",
       "      <td>-1.152078</td>\n",
       "      <td>0.809334</td>\n",
       "      <td>0.290565</td>\n",
       "      <td>0.011385</td>\n",
       "      <td>2.018279</td>\n",
       "      <td>2.731173</td>\n",
       "      <td>-0.784764</td>\n",
       "      <td>-2.322987</td>\n",
       "      <td>-1.383478</td>\n",
       "      <td>-1.293008</td>\n",
       "      <td>-0.875884</td>\n",
       "      <td>0</td>\n",
       "    </tr>\n",
       "    <tr>\n",
       "      <th>4</th>\n",
       "      <td>0.622243</td>\n",
       "      <td>0.499202</td>\n",
       "      <td>-0.722242</td>\n",
       "      <td>-0.570972</td>\n",
       "      <td>-1.546233</td>\n",
       "      <td>-1.192615</td>\n",
       "      <td>0.560651</td>\n",
       "      <td>0.128137</td>\n",
       "      <td>0.011385</td>\n",
       "      <td>1.858498</td>\n",
       "      <td>2.478788</td>\n",
       "      <td>-0.615933</td>\n",
       "      <td>-2.322987</td>\n",
       "      <td>-1.383478</td>\n",
       "      <td>-1.147024</td>\n",
       "      <td>-0.875884</td>\n",
       "      <td>0</td>\n",
       "    </tr>\n",
       "    <tr>\n",
       "      <th>...</th>\n",
       "      <td>...</td>\n",
       "      <td>...</td>\n",
       "      <td>...</td>\n",
       "      <td>...</td>\n",
       "      <td>...</td>\n",
       "      <td>...</td>\n",
       "      <td>...</td>\n",
       "      <td>...</td>\n",
       "      <td>...</td>\n",
       "      <td>...</td>\n",
       "      <td>...</td>\n",
       "      <td>...</td>\n",
       "      <td>...</td>\n",
       "      <td>...</td>\n",
       "      <td>...</td>\n",
       "      <td>...</td>\n",
       "      <td>...</td>\n",
       "    </tr>\n",
       "    <tr>\n",
       "      <th>28813</th>\n",
       "      <td>-1.381086</td>\n",
       "      <td>0.499202</td>\n",
       "      <td>-1.408541</td>\n",
       "      <td>-1.256875</td>\n",
       "      <td>1.775772</td>\n",
       "      <td>1.494401</td>\n",
       "      <td>-0.309741</td>\n",
       "      <td>0.615422</td>\n",
       "      <td>1.630537</td>\n",
       "      <td>-1.017564</td>\n",
       "      <td>-0.465711</td>\n",
       "      <td>0.295758</td>\n",
       "      <td>-1.166328</td>\n",
       "      <td>0.431822</td>\n",
       "      <td>-0.271122</td>\n",
       "      <td>-1.425826</td>\n",
       "      <td>1</td>\n",
       "    </tr>\n",
       "    <tr>\n",
       "      <th>28814</th>\n",
       "      <td>-1.381086</td>\n",
       "      <td>0.499202</td>\n",
       "      <td>-1.257890</td>\n",
       "      <td>-1.215271</td>\n",
       "      <td>1.841166</td>\n",
       "      <td>-2.565078</td>\n",
       "      <td>-0.309741</td>\n",
       "      <td>0.615422</td>\n",
       "      <td>1.630537</td>\n",
       "      <td>-1.017564</td>\n",
       "      <td>-0.465711</td>\n",
       "      <td>0.295758</td>\n",
       "      <td>-1.271479</td>\n",
       "      <td>-0.657358</td>\n",
       "      <td>0.166829</td>\n",
       "      <td>-1.425826</td>\n",
       "      <td>1</td>\n",
       "    </tr>\n",
       "    <tr>\n",
       "      <th>28815</th>\n",
       "      <td>-1.381086</td>\n",
       "      <td>0.499202</td>\n",
       "      <td>1.395244</td>\n",
       "      <td>1.297832</td>\n",
       "      <td>1.893481</td>\n",
       "      <td>1.233806</td>\n",
       "      <td>-0.309741</td>\n",
       "      <td>0.615422</td>\n",
       "      <td>1.630537</td>\n",
       "      <td>-1.017564</td>\n",
       "      <td>-0.465711</td>\n",
       "      <td>0.295758</td>\n",
       "      <td>-1.271479</td>\n",
       "      <td>-0.657358</td>\n",
       "      <td>0.020845</td>\n",
       "      <td>-1.425826</td>\n",
       "      <td>1</td>\n",
       "    </tr>\n",
       "    <tr>\n",
       "      <th>28816</th>\n",
       "      <td>-1.381086</td>\n",
       "      <td>0.499202</td>\n",
       "      <td>-0.010833</td>\n",
       "      <td>0.371301</td>\n",
       "      <td>1.939257</td>\n",
       "      <td>-1.881742</td>\n",
       "      <td>-0.309741</td>\n",
       "      <td>0.615422</td>\n",
       "      <td>1.630537</td>\n",
       "      <td>-1.017564</td>\n",
       "      <td>-0.465711</td>\n",
       "      <td>0.295758</td>\n",
       "      <td>-1.271479</td>\n",
       "      <td>-0.657358</td>\n",
       "      <td>-1.147024</td>\n",
       "      <td>-1.425826</td>\n",
       "      <td>1</td>\n",
       "    </tr>\n",
       "    <tr>\n",
       "      <th>28817</th>\n",
       "      <td>-1.381086</td>\n",
       "      <td>0.499202</td>\n",
       "      <td>-0.002464</td>\n",
       "      <td>0.346564</td>\n",
       "      <td>1.991572</td>\n",
       "      <td>-1.815146</td>\n",
       "      <td>-0.309741</td>\n",
       "      <td>0.615422</td>\n",
       "      <td>1.630537</td>\n",
       "      <td>-1.017564</td>\n",
       "      <td>-0.465711</td>\n",
       "      <td>0.295758</td>\n",
       "      <td>-1.271479</td>\n",
       "      <td>-0.657358</td>\n",
       "      <td>-0.855057</td>\n",
       "      <td>-1.425826</td>\n",
       "      <td>0</td>\n",
       "    </tr>\n",
       "  </tbody>\n",
       "</table>\n",
       "<p>28818 rows × 17 columns</p>\n",
       "</div>"
      ],
      "text/plain": [
       "          MONTH  DAY_OF_WEEK  CRS_ELAPSED_TIME  DISTANCE  DEP_TIME_M  \\\n",
       "0      0.622243     0.499202         -0.847784 -0.710402   -1.654133   \n",
       "1      0.622243     0.499202          1.219484  1.357427   -1.621436   \n",
       "2      0.622243     0.499202         -0.370722 -0.223523   -1.595279   \n",
       "3      0.622243     0.499202         -0.479526 -0.364077   -1.588739   \n",
       "4      0.622243     0.499202         -0.722242 -0.570972   -1.546233   \n",
       "...         ...          ...               ...       ...         ...   \n",
       "28813 -1.381086     0.499202         -1.408541 -1.256875    1.775772   \n",
       "28814 -1.381086     0.499202         -1.257890 -1.215271    1.841166   \n",
       "28815 -1.381086     0.499202          1.395244  1.297832    1.893481   \n",
       "28816 -1.381086     0.499202         -0.010833  0.371301    1.939257   \n",
       "28817 -1.381086     0.499202         -0.002464  0.346564    1.991572   \n",
       "\n",
       "       CRS_ARR_M  Temperature  Dew Point  Humidity  Wind Speed  Wind Gust  \\\n",
       "0      -1.340285     0.809334   0.290565  0.011385    2.018279   2.731173   \n",
       "1      -1.099959     0.809334   0.290565  0.011385    2.018279   2.731173   \n",
       "2      -1.241838     0.809334   0.290565  0.011385    2.018279   2.731173   \n",
       "3      -1.152078     0.809334   0.290565  0.011385    2.018279   2.731173   \n",
       "4      -1.192615     0.560651   0.128137  0.011385    1.858498   2.478788   \n",
       "...          ...          ...        ...       ...         ...        ...   \n",
       "28813   1.494401    -0.309741   0.615422  1.630537   -1.017564  -0.465711   \n",
       "28814  -2.565078    -0.309741   0.615422  1.630537   -1.017564  -0.465711   \n",
       "28815   1.233806    -0.309741   0.615422  1.630537   -1.017564  -0.465711   \n",
       "28816  -1.881742    -0.309741   0.615422  1.630537   -1.017564  -0.465711   \n",
       "28817  -1.815146    -0.309741   0.615422  1.630537   -1.017564  -0.465711   \n",
       "\n",
       "       Pressure   sch_dep   sch_arr  TAXI_OUT     clime  DELAY_STATUS  \n",
       "0     -0.784764 -2.322987 -1.383478 -1.001041 -0.875884             0  \n",
       "1     -0.784764 -2.322987 -1.383478 -0.855057 -0.875884             0  \n",
       "2     -0.784764 -2.322987 -1.383478  0.166829 -0.875884             1  \n",
       "3     -0.784764 -2.322987 -1.383478 -1.293008 -0.875884             0  \n",
       "4     -0.615933 -2.322987 -1.383478 -1.147024 -0.875884             0  \n",
       "...         ...       ...       ...       ...       ...           ...  \n",
       "28813  0.295758 -1.166328  0.431822 -0.271122 -1.425826             1  \n",
       "28814  0.295758 -1.271479 -0.657358  0.166829 -1.425826             1  \n",
       "28815  0.295758 -1.271479 -0.657358  0.020845 -1.425826             1  \n",
       "28816  0.295758 -1.271479 -0.657358 -1.147024 -1.425826             1  \n",
       "28817  0.295758 -1.271479 -0.657358 -0.855057 -1.425826             0  \n",
       "\n",
       "[28818 rows x 17 columns]"
      ]
     },
     "execution_count": 6,
     "metadata": {},
     "output_type": "execute_result"
    }
   ],
   "source": [
    "df"
   ]
  },
  {
   "cell_type": "markdown",
   "id": "971ffb8b-dd8a-4b6c-876f-52d66d14177b",
   "metadata": {},
   "source": [
    "# MODELO KNN "
   ]
  },
  {
   "cell_type": "code",
   "execution_count": null,
   "id": "3895bd33-3ff6-4194-889a-2647210cc0c5",
   "metadata": {},
   "outputs": [],
   "source": [
    "## utilizare todas mis columnas menos la target."
   ]
  },
  {
   "cell_type": "code",
   "execution_count": 9,
   "id": "a901855c-48f7-449c-aa13-ee5ccdabb499",
   "metadata": {},
   "outputs": [],
   "source": [
    "X = df.drop(columns=['DELAY_STATUS']) \n",
    "y= df['DELAY_STATUS']"
   ]
  },
  {
   "cell_type": "code",
   "execution_count": 10,
   "id": "c00f651f-7b1d-469a-844b-1f7350443331",
   "metadata": {},
   "outputs": [],
   "source": [
    "X_train, X_test, y_train, y_test = train_test_split(X, y, test_size=0.25, random_state=100)"
   ]
  },
  {
   "cell_type": "code",
   "execution_count": 11,
   "id": "d49db6ee-1349-47b2-aa0c-5508b950f174",
   "metadata": {},
   "outputs": [
    {
     "data": {
      "text/plain": [
       "((28818, 16), (28818,))"
      ]
     },
     "execution_count": 11,
     "metadata": {},
     "output_type": "execute_result"
    }
   ],
   "source": [
    "X.shape, y.shape"
   ]
  },
  {
   "cell_type": "code",
   "execution_count": 12,
   "id": "4483dcff-a77f-477b-870f-00aa3cf7719e",
   "metadata": {},
   "outputs": [
    {
     "data": {
      "text/plain": [
       "((21613, 16), (7205, 16))"
      ]
     },
     "execution_count": 12,
     "metadata": {},
     "output_type": "execute_result"
    }
   ],
   "source": [
    "X_train.shape, X_test.shape"
   ]
  },
  {
   "cell_type": "code",
   "execution_count": 13,
   "id": "a4c065af-d212-4e6a-938d-923ca48f0e40",
   "metadata": {},
   "outputs": [
    {
     "data": {
      "text/plain": [
       "KNeighborsClassifier(n_neighbors=13)"
      ]
     },
     "execution_count": 13,
     "metadata": {},
     "output_type": "execute_result"
    }
   ],
   "source": [
    "model =  KNeighborsClassifier(n_neighbors=13)\n",
    "model.fit(X_train, y_train)"
   ]
  },
  {
   "cell_type": "markdown",
   "id": "87df4266-1c46-4960-8ef3-1e665a1f7922",
   "metadata": {},
   "source": [
    "### Modelo de Prediccion train"
   ]
  },
  {
   "cell_type": "code",
   "execution_count": 14,
   "id": "fd3f4041-4729-4011-97af-9c909aee6d6a",
   "metadata": {},
   "outputs": [
    {
     "data": {
      "text/plain": [
       "array([1, 1, 0, ..., 0, 0, 0])"
      ]
     },
     "execution_count": 14,
     "metadata": {},
     "output_type": "execute_result"
    }
   ],
   "source": [
    "predictions_train = model.predict(X_train)\n",
    "predictions_train"
   ]
  },
  {
   "cell_type": "code",
   "execution_count": 15,
   "id": "138ced6e-7402-4e3b-8efa-50a4a7a7b442",
   "metadata": {},
   "outputs": [
    {
     "data": {
      "text/plain": [
       "0.7266460000925369"
      ]
     },
     "execution_count": 15,
     "metadata": {},
     "output_type": "execute_result"
    }
   ],
   "source": [
    "score_train = model.score(X_train, y_train)\n",
    "score_train"
   ]
  },
  {
   "cell_type": "markdown",
   "id": "7868f734-8df0-4258-9d14-d3aa20df08e0",
   "metadata": {},
   "source": [
    "### Test"
   ]
  },
  {
   "cell_type": "code",
   "execution_count": 26,
   "id": "67903f9e-ac45-4890-8702-386db3bff78f",
   "metadata": {},
   "outputs": [],
   "source": [
    "predictions_test = model.predict(X_test)\n",
    "score_test = model.score(X_test , y_test)"
   ]
  },
  {
   "cell_type": "code",
   "execution_count": 27,
   "id": "6e022c6e-a8d3-4f70-b090-353db74c601f",
   "metadata": {},
   "outputs": [
    {
     "data": {
      "text/plain": [
       "0.6918806384455239"
      ]
     },
     "execution_count": 27,
     "metadata": {},
     "output_type": "execute_result"
    }
   ],
   "source": [
    "score_test"
   ]
  },
  {
   "cell_type": "code",
   "execution_count": null,
   "id": "a6935b76-977d-4786-a684-acef905afe82",
   "metadata": {},
   "outputs": [],
   "source": [
    "## el ajuste es muy bueno con los datos que tenemos."
   ]
  },
  {
   "cell_type": "code",
   "execution_count": 28,
   "id": "9e162526-5b57-4b5a-b8d4-072c1a85f0d9",
   "metadata": {},
   "outputs": [],
   "source": [
    "scores = []\n",
    "for k in range(6,21):\n",
    "    model = KNeighborsClassifier(n_neighbors = k)\n",
    "    model.fit(X_train, y_train)\n",
    "    score = model.score(X_test,y_test)\n",
    "    scores.append(score)"
   ]
  },
  {
   "cell_type": "code",
   "execution_count": 29,
   "id": "49b665bf-165d-4512-aae6-e88774311e8b",
   "metadata": {},
   "outputs": [
    {
     "data": {
      "text/plain": [
       "[0.6911866759195003,\n",
       " 0.6742539902845246,\n",
       " 0.6896599583622485,\n",
       " 0.6810548230395559,\n",
       " 0.6931297709923664,\n",
       " 0.6888272033310201,\n",
       " 0.6961832061068702,\n",
       " 0.6911866759195003,\n",
       " 0.6945176960444136,\n",
       " 0.6924358084663428,\n",
       " 0.69382373351839,\n",
       " 0.6906315058986815,\n",
       " 0.6942401110340042,\n",
       " 0.6911866759195003,\n",
       " 0.6918806384455239]"
      ]
     },
     "execution_count": 29,
     "metadata": {},
     "output_type": "execute_result"
    }
   ],
   "source": [
    "scores"
   ]
  },
  {
   "cell_type": "code",
   "execution_count": 30,
   "id": "4c9420dc-cdb1-4109-9655-6c5a0b4f12f5",
   "metadata": {},
   "outputs": [
    {
     "data": {
      "image/png": "[encoded data removed]",
      "text/plain": [
       "<Figure size 1000x600 with 1 Axes>"
      ]
     },
     "metadata": {},
     "output_type": "display_data"
    }
   ],
   "source": [
    "plt.figure(figsize=(10,6))\n",
    "plt.plot(range(6,21), scores, marker='o')\n",
    "plt.xlabel('k')\n",
    "plt.ylabel('Accuracy score')\n",
    "plt.show()"
   ]
  },
  {
   "cell_type": "code",
   "execution_count": 21,
   "id": "1a6f55ea-7f6b-4ac6-b9df-9b9744c94695",
   "metadata": {},
   "outputs": [],
   "source": [
    "# Elbow method using MSE as error metric (lower MSE -> better model)\n",
    "\n",
    "from sklearn.metrics import mean_squared_error\n",
    "\n",
    "MSEs = []\n",
    "\n",
    "for k in range(6,21):\n",
    "    model = KNeighborsClassifier(n_neighbors = k)\n",
    "    model.fit(X_train, y_train)\n",
    "    preds = model.predict(X_test)\n",
    "    MSE = mean_squared_error(y_test,preds)\n",
    "    MSEs.append(MSE)"
   ]
  },
  {
   "cell_type": "code",
   "execution_count": 22,
   "id": "e33787a2-cf32-4ac5-9d73-549207152b48",
   "metadata": {},
   "outputs": [
    {
     "data": {
      "text/plain": [
       "[0.30881332408049966,\n",
       " 0.32574600971547535,\n",
       " 0.3103400416377516,\n",
       " 0.3189451769604441,\n",
       " 0.3068702290076336,\n",
       " 0.3111727966689799,\n",
       " 0.30381679389312977,\n",
       " 0.30881332408049966,\n",
       " 0.3054823039555864,\n",
       " 0.30756419153365716,\n",
       " 0.30617626648161,\n",
       " 0.3093684941013185,\n",
       " 0.3057598889659958,\n",
       " 0.30881332408049966,\n",
       " 0.30811936155447606]"
      ]
     },
     "execution_count": 22,
     "metadata": {},
     "output_type": "execute_result"
    }
   ],
   "source": [
    "MSEs"
   ]
  },
  {
   "cell_type": "code",
   "execution_count": 23,
   "id": "953196ea-d5f3-49bb-97d5-092fc6df81b2",
   "metadata": {},
   "outputs": [
    {
     "data": {
      "image/png": "[encoded data removed]",
      "text/plain": [
       "<Figure size 1000x600 with 1 Axes>"
      ]
     },
     "metadata": {},
     "output_type": "display_data"
    }
   ],
   "source": [
    "plt.figure(figsize=(10,6))\n",
    "plt.plot(range(6,21), MSEs, marker='o')\n",
    "plt.xlabel('k')\n",
    "plt.ylabel('Mean Square Error')\n",
    "plt.show()"
   ]
  },
  {
   "cell_type": "code",
   "execution_count": null,
   "id": "d9f27805-3610-4407-b47b-58b186cdca4f",
   "metadata": {},
   "outputs": [],
   "source": []
  },
  {
   "cell_type": "markdown",
   "id": "b26f3c59-02fa-4185-ad49-49f61d5dd7bc",
   "metadata": {},
   "source": [
    "### DAY OF WEEK , DISTANCE , CLIME"
   ]
  },
  {
   "cell_type": "code",
   "execution_count": 31,
   "id": "b80bf382-af05-45c0-8a1a-d964bcdf076e",
   "metadata": {},
   "outputs": [],
   "source": [
    "columnas_x =[ 'DAY_OF_WEEK' , 'DISTANCE' , 'clime']"
   ]
  },
  {
   "cell_type": "code",
   "execution_count": 32,
   "id": "37b500ea-c463-4c52-8128-045f960a7cbe",
   "metadata": {},
   "outputs": [],
   "source": [
    "X = df[columnas_x]"
   ]
  },
  {
   "cell_type": "code",
   "execution_count": 34,
   "id": "df84fb0e-396b-4e2b-b2b2-9e77490b69b8",
   "metadata": {},
   "outputs": [],
   "source": [
    "y = df['DELAY_STATUS']"
   ]
  },
  {
   "cell_type": "code",
   "execution_count": 35,
   "id": "e768ba38-3e81-498f-9732-4877cad072ec",
   "metadata": {},
   "outputs": [],
   "source": [
    "X_train, X_test, y_train, y_test = train_test_split(X, y, test_size=0.25, random_state=100)"
   ]
  },
  {
   "cell_type": "code",
   "execution_count": 36,
   "id": "cbadabcc-758b-4026-91c5-2faa7f445276",
   "metadata": {},
   "outputs": [
    {
     "data": {
      "text/plain": [
       "((28818, 3), (28818,))"
      ]
     },
     "execution_count": 36,
     "metadata": {},
     "output_type": "execute_result"
    }
   ],
   "source": [
    "X.shape, y.shape"
   ]
  },
  {
   "cell_type": "code",
   "execution_count": 37,
   "id": "bf4ddc5f-fef4-4071-bc27-9c46da73c67b",
   "metadata": {},
   "outputs": [
    {
     "data": {
      "text/plain": [
       "((21613, 3), (7205, 3))"
      ]
     },
     "execution_count": 37,
     "metadata": {},
     "output_type": "execute_result"
    }
   ],
   "source": [
    "X_train.shape, X_test.shape"
   ]
  },
  {
   "cell_type": "code",
   "execution_count": 46,
   "id": "a1309819-ed37-4aed-bbdb-351e4651fff7",
   "metadata": {},
   "outputs": [
    {
     "data": {
      "text/plain": [
       "KNeighborsClassifier(n_neighbors=16)"
      ]
     },
     "execution_count": 46,
     "metadata": {},
     "output_type": "execute_result"
    }
   ],
   "source": [
    "model =  KNeighborsClassifier(n_neighbors=16)\n",
    "model.fit(X_train, y_train)"
   ]
  },
  {
   "cell_type": "markdown",
   "id": "b1508aa3-a303-42bd-98b9-ebff23f6efbf",
   "metadata": {},
   "source": [
    "### Modelo de Prediccion train"
   ]
  },
  {
   "cell_type": "code",
   "execution_count": 47,
   "id": "d84e2a2e-3918-4558-8479-0eb14261c10a",
   "metadata": {},
   "outputs": [
    {
     "data": {
      "text/plain": [
       "array([0, 0, 0, ..., 0, 0, 0])"
      ]
     },
     "execution_count": 47,
     "metadata": {},
     "output_type": "execute_result"
    }
   ],
   "source": [
    "predictions_train = model.predict(X_train)\n",
    "predictions_train"
   ]
  },
  {
   "cell_type": "code",
   "execution_count": 48,
   "id": "e2db6ab0-b454-4293-b584-87d16a6fafaa",
   "metadata": {},
   "outputs": [
    {
     "data": {
      "text/plain": [
       "0.6910655623930042"
      ]
     },
     "execution_count": 48,
     "metadata": {},
     "output_type": "execute_result"
    }
   ],
   "source": [
    "score_train = model.score(X_train, y_train)\n",
    "score_train"
   ]
  },
  {
   "cell_type": "markdown",
   "id": "1092ca83-c46f-452f-9eec-a0689b6af76a",
   "metadata": {},
   "source": [
    "### Test"
   ]
  },
  {
   "cell_type": "code",
   "execution_count": 49,
   "id": "cd7e38e2-2940-4b9d-9c9b-f1e8c7b67f1b",
   "metadata": {},
   "outputs": [],
   "source": [
    "predictions_test = model.predict(X_test)\n",
    "score_test = model.score(X_test , y_test)"
   ]
  },
  {
   "cell_type": "code",
   "execution_count": 50,
   "id": "8561d303-37c9-4296-8c11-493e9d7e5037",
   "metadata": {},
   "outputs": [
    {
     "data": {
      "text/plain": [
       "0.6741151977793199"
      ]
     },
     "execution_count": 50,
     "metadata": {},
     "output_type": "execute_result"
    }
   ],
   "source": [
    "score_test"
   ]
  },
  {
   "cell_type": "code",
   "execution_count": 51,
   "id": "7e26b5cc-88ee-4b0c-90d4-1d4bfa6fe5fa",
   "metadata": {},
   "outputs": [],
   "source": [
    "scores = []\n",
    "for k in range(6,21):\n",
    "    model = KNeighborsClassifier(n_neighbors = k)\n",
    "    model.fit(X_train, y_train)\n",
    "    score = model.score(X_test,y_test)\n",
    "    scores.append(score)"
   ]
  },
  {
   "cell_type": "code",
   "execution_count": 52,
   "id": "c9d2d34a-38f7-477c-bb64-7355a94aa5f0",
   "metadata": {},
   "outputs": [
    {
     "data": {
      "text/plain": [
       "[0.6605135322692575,\n",
       " 0.6383067314365024,\n",
       " 0.6575988896599584,\n",
       " 0.6482997918112422,\n",
       " 0.6619014573213047,\n",
       " 0.6544066620402498,\n",
       " 0.6650936849410132,\n",
       " 0.6578764746703678,\n",
       " 0.6695350451075642,\n",
       " 0.6653712699514226,\n",
       " 0.6741151977793199,\n",
       " 0.6682859125607217,\n",
       " 0.6730048577376821,\n",
       " 0.6663428174878556,\n",
       " 0.6723108952116585]"
      ]
     },
     "execution_count": 52,
     "metadata": {},
     "output_type": "execute_result"
    }
   ],
   "source": [
    "scores"
   ]
  },
  {
   "cell_type": "code",
   "execution_count": 53,
   "id": "75c102c5-cb4b-4c0f-924b-9fd9001e8a7b",
   "metadata": {},
   "outputs": [
    {
     "data": {
      "image/png": "[encoded data removed]",
      "text/plain": [
       "<Figure size 1000x600 with 1 Axes>"
      ]
     },
     "metadata": {},
     "output_type": "display_data"
    }
   ],
   "source": [
    "plt.figure(figsize=(10,6))\n",
    "plt.plot(range(6,21), scores, marker='o')\n",
    "plt.xlabel('k')\n",
    "plt.ylabel('Accuracy score')\n",
    "plt.show()"
   ]
  },
  {
   "cell_type": "markdown",
   "id": "1b0c4940-c435-4f9f-8bc3-7508726b4ba3",
   "metadata": {},
   "source": [
    "## MONTH, DAY OF WEEK , Wind Speed, Pressure"
   ]
  },
  {
   "cell_type": "code",
   "execution_count": 56,
   "id": "aaba776d-04ce-4cc4-b34d-fc614b5e8593",
   "metadata": {},
   "outputs": [],
   "source": [
    "columnas_x =[ 'MONTH','DAY_OF_WEEK' , 'Wind Speed', 'Pressure' ]"
   ]
  },
  {
   "cell_type": "code",
   "execution_count": 57,
   "id": "d8b767f4-186e-48cf-bd2f-3e5e516c4671",
   "metadata": {},
   "outputs": [],
   "source": [
    "X = df[columnas_x]"
   ]
  },
  {
   "cell_type": "code",
   "execution_count": 58,
   "id": "fdfa37ca-9936-407e-a282-09941d631c0a",
   "metadata": {},
   "outputs": [],
   "source": [
    "y = df['DELAY_STATUS']"
   ]
  },
  {
   "cell_type": "code",
   "execution_count": 59,
   "id": "2c56f214-c456-4a53-80ff-619a35bf86f9",
   "metadata": {},
   "outputs": [],
   "source": [
    "X_train, X_test, y_train, y_test = train_test_split(X, y, test_size=0.25, random_state=100)"
   ]
  },
  {
   "cell_type": "code",
   "execution_count": 60,
   "id": "c3332676-48fb-4fb4-b677-49ed392e97c9",
   "metadata": {},
   "outputs": [
    {
     "data": {
      "text/plain": [
       "((28818, 4), (28818,))"
      ]
     },
     "execution_count": 60,
     "metadata": {},
     "output_type": "execute_result"
    }
   ],
   "source": [
    "X.shape, y.shape"
   ]
  },
  {
   "cell_type": "code",
   "execution_count": 61,
   "id": "ddc68b5d-7df6-4937-9c4b-e88a0945b278",
   "metadata": {},
   "outputs": [
    {
     "data": {
      "text/plain": [
       "((21613, 4), (7205, 4))"
      ]
     },
     "execution_count": 61,
     "metadata": {},
     "output_type": "execute_result"
    }
   ],
   "source": [
    "X_train.shape, X_test.shape"
   ]
  },
  {
   "cell_type": "code",
   "execution_count": 62,
   "id": "0f5a9d2e-f549-4da0-ac0a-53bcd8360fef",
   "metadata": {},
   "outputs": [
    {
     "data": {
      "text/plain": [
       "KNeighborsClassifier(n_neighbors=13)"
      ]
     },
     "execution_count": 62,
     "metadata": {},
     "output_type": "execute_result"
    }
   ],
   "source": [
    "model =  KNeighborsClassifier(n_neighbors=13)\n",
    "model.fit(X_train, y_train)"
   ]
  },
  {
   "cell_type": "code",
   "execution_count": 63,
   "id": "75aee034-2995-47b0-ac48-f1077aadb0fc",
   "metadata": {},
   "outputs": [
    {
     "data": {
      "text/plain": [
       "array([0, 0, 0, ..., 0, 0, 0])"
      ]
     },
     "execution_count": 63,
     "metadata": {},
     "output_type": "execute_result"
    }
   ],
   "source": [
    "predictions_train = model.predict(X_train)\n",
    "predictions_train"
   ]
  },
  {
   "cell_type": "code",
   "execution_count": 64,
   "id": "a0bf3fb5-4326-43fd-ab10-5bbba30cbcf5",
   "metadata": {},
   "outputs": [
    {
     "data": {
      "text/plain": [
       "0.7117012908897423"
      ]
     },
     "execution_count": 64,
     "metadata": {},
     "output_type": "execute_result"
    }
   ],
   "source": [
    "score_train = model.score(X_train, y_train)\n",
    "score_train"
   ]
  },
  {
   "cell_type": "markdown",
   "id": "b60ae2bd-1d63-4ffe-ae1a-7585ec70ad68",
   "metadata": {},
   "source": [
    "### Test"
   ]
  },
  {
   "cell_type": "code",
   "execution_count": 65,
   "id": "222544ab-0e71-4f17-a0e6-09398776e924",
   "metadata": {},
   "outputs": [],
   "source": [
    "predictions_test = model.predict(X_test)\n",
    "score_test = model.score(X_test , y_test)"
   ]
  },
  {
   "cell_type": "code",
   "execution_count": 66,
   "id": "4c6f471c-782f-405c-bf80-e1db33a91ae1",
   "metadata": {},
   "outputs": [
    {
     "data": {
      "text/plain": [
       "0.6841082581540597"
      ]
     },
     "execution_count": 66,
     "metadata": {},
     "output_type": "execute_result"
    }
   ],
   "source": [
    "score_test"
   ]
  },
  {
   "cell_type": "code",
   "execution_count": 67,
   "id": "fdc42c25-3360-4b3d-89d3-472b4669952b",
   "metadata": {},
   "outputs": [],
   "source": [
    "scores = []\n",
    "for k in range(6,21):\n",
    "    model = KNeighborsClassifier(n_neighbors = k)\n",
    "    model.fit(X_train, y_train)\n",
    "    score = model.score(X_test,y_test)\n",
    "    scores.append(score)"
   ]
  },
  {
   "cell_type": "code",
   "execution_count": 68,
   "id": "2c4601f0-abdf-421f-8adc-853bb3938a20",
   "metadata": {},
   "outputs": [
    {
     "data": {
      "text/plain": [
       "[0.6767522553782096,\n",
       " 0.6695350451075642,\n",
       " 0.6845246356696738,\n",
       " 0.6739764052741152,\n",
       " 0.6845246356696738,\n",
       " 0.6803608605135323,\n",
       " 0.6891047883414295,\n",
       " 0.6841082581540597,\n",
       " 0.6916030534351145,\n",
       " 0.6889659958362249,\n",
       " 0.6949340735600278,\n",
       " 0.6899375433726579,\n",
       " 0.6942401110340042,\n",
       " 0.6907702984038862,\n",
       " 0.6946564885496184]"
      ]
     },
     "execution_count": 68,
     "metadata": {},
     "output_type": "execute_result"
    }
   ],
   "source": [
    "scores"
   ]
  },
  {
   "cell_type": "code",
   "execution_count": 69,
   "id": "b9ee02f7-9244-44fe-945d-4207ac2ef207",
   "metadata": {},
   "outputs": [
    {
     "data": {
      "image/png": "[encoded data removed]",
      "text/plain": [
       "<Figure size 1000x600 with 1 Axes>"
      ]
     },
     "metadata": {},
     "output_type": "display_data"
    }
   ],
   "source": [
    "plt.figure(figsize=(10,6))\n",
    "plt.plot(range(6,21), scores, marker='o')\n",
    "plt.xlabel('k')\n",
    "plt.ylabel('Accuracy score')\n",
    "plt.show()"
   ]
  },
  {
   "cell_type": "code",
   "execution_count": 70,
   "id": "abd69c60-5d6f-488a-9d2e-e8b55eae187d",
   "metadata": {},
   "outputs": [],
   "source": [
    "# Elbow method using MSE as error metric (lower MSE -> better model)\n",
    "\n",
    "from sklearn.metrics import mean_squared_error\n",
    "\n",
    "MSEs = []\n",
    "\n",
    "for k in range(6,21):\n",
    "    model = KNeighborsClassifier(n_neighbors = k)\n",
    "    model.fit(X_train, y_train)\n",
    "    preds = model.predict(X_test)\n",
    "    MSE = mean_squared_error(y_test,preds)\n",
    "    MSEs.append(MSE)"
   ]
  },
  {
   "cell_type": "code",
   "execution_count": 71,
   "id": "9b3c8a9e-211c-4de0-a4a3-f1066e223502",
   "metadata": {},
   "outputs": [
    {
     "data": {
      "text/plain": [
       "[0.3232477446217904,\n",
       " 0.3304649548924358,\n",
       " 0.31547536433032614,\n",
       " 0.3260235947258848,\n",
       " 0.31547536433032614,\n",
       " 0.3196391394864677,\n",
       " 0.3108952116585704,\n",
       " 0.3158917418459403,\n",
       " 0.3083969465648855,\n",
       " 0.31103400416377514,\n",
       " 0.30506592643997227,\n",
       " 0.3100624566273421,\n",
       " 0.3057598889659958,\n",
       " 0.3092297015961138,\n",
       " 0.3053435114503817]"
      ]
     },
     "execution_count": 71,
     "metadata": {},
     "output_type": "execute_result"
    }
   ],
   "source": [
    "MSEs"
   ]
  },
  {
   "cell_type": "code",
   "execution_count": 72,
   "id": "568b00f2-eacf-43ae-9256-ebcee1da11c9",
   "metadata": {},
   "outputs": [
    {
     "data": {
      "image/png": "[encoded data removed]",
      "text/plain": [
       "<Figure size 1000x600 with 1 Axes>"
      ]
     },
     "metadata": {},
     "output_type": "display_data"
    }
   ],
   "source": [
    "plt.figure(figsize=(10,6))\n",
    "plt.plot(range(6,21), MSEs, marker='o')\n",
    "plt.xlabel('k')\n",
    "plt.ylabel('Mean Square Error')\n",
    "plt.show()"
   ]
  },
  {
   "cell_type": "markdown",
   "id": "2d75e188-634d-4486-be89-c36f9118c4a6",
   "metadata": {},
   "source": [
    "## -Weather conditions (Temperature, Dew Point, Humidity, Wind Speed, Wind Gust, Pressure, Clime).\n",
    "## - DEP_TIME_M\n",
    "## - Date of the flight (month, day of the week)."
   ]
  },
  {
   "cell_type": "code",
   "execution_count": 73,
   "id": "e5c41170-4c02-45a5-962f-3d793b6c8341",
   "metadata": {},
   "outputs": [],
   "source": [
    "columnas_x =[ 'MONTH','DAY_OF_WEEK' ,'DEP_TIME_M' ,  'Wind Speed', 'Pressure' , 'clime', 'Dew Point',\t\n",
    "             'Humidity',\t'Wind Gust' , 'Temperature' ]"
   ]
  },
  {
   "cell_type": "code",
   "execution_count": 74,
   "id": "fb5ee27a-111f-48a8-baf0-2b638d894ec3",
   "metadata": {},
   "outputs": [],
   "source": [
    "X = df[columnas_x]"
   ]
  },
  {
   "cell_type": "code",
   "execution_count": 75,
   "id": "709a3874-18a9-42fe-9ad9-dea208b85cd8",
   "metadata": {},
   "outputs": [],
   "source": [
    "y = df['DELAY_STATUS']"
   ]
  },
  {
   "cell_type": "code",
   "execution_count": 76,
   "id": "00bcd7df-c808-436d-9b27-a8470c10d9ef",
   "metadata": {},
   "outputs": [],
   "source": [
    "X_train, X_test, y_train, y_test = train_test_split(X, y, test_size=0.25, random_state=100)"
   ]
  },
  {
   "cell_type": "code",
   "execution_count": 77,
   "id": "764bae6e-9a43-4640-bac1-d3ae949acfd7",
   "metadata": {},
   "outputs": [
    {
     "data": {
      "text/plain": [
       "((21613, 10), (7205, 10))"
      ]
     },
     "execution_count": 77,
     "metadata": {},
     "output_type": "execute_result"
    }
   ],
   "source": [
    "X_train.shape , X_test.shape"
   ]
  },
  {
   "cell_type": "code",
   "execution_count": 78,
   "id": "72386754-644b-461c-803a-592d20fa4734",
   "metadata": {},
   "outputs": [
    {
     "data": {
      "text/plain": [
       "KNeighborsClassifier(n_neighbors=13)"
      ]
     },
     "execution_count": 78,
     "metadata": {},
     "output_type": "execute_result"
    }
   ],
   "source": [
    "model =  KNeighborsClassifier(n_neighbors=13)\n",
    "model.fit(X_train, y_train)"
   ]
  },
  {
   "cell_type": "markdown",
   "id": "45fa5552-ebbc-4729-807b-9e68dbf95b2a",
   "metadata": {},
   "source": [
    "### Modelo de Prediccion train"
   ]
  },
  {
   "cell_type": "code",
   "execution_count": 79,
   "id": "3742f1b2-0264-42cc-933a-94bc16a62540",
   "metadata": {},
   "outputs": [
    {
     "data": {
      "text/plain": [
       "array([0, 1, 0, ..., 0, 0, 0])"
      ]
     },
     "execution_count": 79,
     "metadata": {},
     "output_type": "execute_result"
    }
   ],
   "source": [
    "predictions_train = model.predict(X_train)\n",
    "predictions_train"
   ]
  },
  {
   "cell_type": "code",
   "execution_count": 80,
   "id": "743765d2-f3f0-4bd5-ba93-ef6ced2c7c88",
   "metadata": {},
   "outputs": [
    {
     "data": {
      "text/plain": [
       "0.725581825753019"
      ]
     },
     "execution_count": 80,
     "metadata": {},
     "output_type": "execute_result"
    }
   ],
   "source": [
    "score_train = model.score(X_train, y_train)\n",
    "score_train"
   ]
  },
  {
   "cell_type": "markdown",
   "id": "350f8610-fb64-41ad-9dba-7d4ab1d2bdb3",
   "metadata": {},
   "source": [
    "### Test"
   ]
  },
  {
   "cell_type": "code",
   "execution_count": 81,
   "id": "d26b5def-026f-41f0-a638-7548dbc7bed9",
   "metadata": {},
   "outputs": [],
   "source": [
    "predictions_test = model.predict(X_test)\n",
    "score_test = model.score(X_test , y_test)"
   ]
  },
  {
   "cell_type": "code",
   "execution_count": 82,
   "id": "c7dfc918-d810-4c0a-89b8-fa6a5ae5062f",
   "metadata": {},
   "outputs": [
    {
     "data": {
      "text/plain": [
       "0.6786953504510757"
      ]
     },
     "execution_count": 82,
     "metadata": {},
     "output_type": "execute_result"
    }
   ],
   "source": [
    "score_test"
   ]
  },
  {
   "cell_type": "code",
   "execution_count": 83,
   "id": "262036a3-5a87-4643-af0c-99af9179ccd1",
   "metadata": {},
   "outputs": [],
   "source": [
    "scores = []\n",
    "for k in range(6,21):\n",
    "    model = KNeighborsClassifier(n_neighbors = k)\n",
    "    model.fit(X_train, y_train)\n",
    "    score = model.score(X_test,y_test)\n",
    "    scores.append(score)"
   ]
  },
  {
   "cell_type": "code",
   "execution_count": 84,
   "id": "1952d526-95f3-43da-94cd-9622e8f96dd4",
   "metadata": {},
   "outputs": [
    {
     "data": {
      "text/plain": [
       "[0.6807772380291465,\n",
       " 0.673560027758501,\n",
       " 0.684941013185288,\n",
       " 0.6767522553782096,\n",
       " 0.6882720333102013,\n",
       " 0.6775850104094379,\n",
       " 0.6896599583622485,\n",
       " 0.6786953504510757,\n",
       " 0.6888272033310201,\n",
       " 0.6831367106176266,\n",
       " 0.6931297709923664,\n",
       " 0.689382373351839,\n",
       " 0.6932685634975712,\n",
       " 0.6879944482997918,\n",
       " 0.6924358084663428]"
      ]
     },
     "execution_count": 84,
     "metadata": {},
     "output_type": "execute_result"
    }
   ],
   "source": [
    "scores"
   ]
  },
  {
   "cell_type": "code",
   "execution_count": 85,
   "id": "061f1f54-0154-461d-9b06-4567763eaa9b",
   "metadata": {},
   "outputs": [
    {
     "data": {
      "image/png": "[encoded data removed]",
      "text/plain": [
       "<Figure size 1000x600 with 1 Axes>"
      ]
     },
     "metadata": {},
     "output_type": "display_data"
    }
   ],
   "source": [
    "plt.figure(figsize=(10,6))\n",
    "plt.plot(range(6,21), scores, marker='o')\n",
    "plt.xlabel('k')\n",
    "plt.ylabel('Accuracy score')\n",
    "plt.show()"
   ]
  },
  {
   "cell_type": "code",
   "execution_count": null,
   "id": "aad2939f-6849-4b27-b949-9fddef31f166",
   "metadata": {},
   "outputs": [],
   "source": []
  }
 ],
 "metadata": {
  "kernelspec": {
   "display_name": "Python 3 (ipykernel)",
   "language": "python",
   "name": "python3"
  },
  "language_info": {
   "codemirror_mode": {
    "name": "ipython",
    "version": 3
   },
   "file_extension": ".py",
   "mimetype": "text/x-python",
   "name": "python",
   "nbconvert_exporter": "python",
   "pygments_lexer": "ipython3",
   "version": "3.9.13"
  }
 },
 "nbformat": 4,
 "nbformat_minor": 5
}
