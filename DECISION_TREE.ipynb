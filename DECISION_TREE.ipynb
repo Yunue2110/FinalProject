{
 "cells": [
  {
   "cell_type": "code",
   "execution_count": 12,
   "id": "09a9e525-b83a-4f40-af11-5e03911e1e3a",
   "metadata": {},
   "outputs": [],
   "source": [
    "### pip install graphviz\n"
   ]
  },
  {
   "cell_type": "code",
   "execution_count": 1,
   "id": "fbe016cf-b1dc-4c90-bca8-c6cf6ddb1510",
   "metadata": {},
   "outputs": [],
   "source": [
    "import numpy as np \n",
    "import pandas as pd \n",
    "\n",
    "import matplotlib.pyplot as plt \n",
    "%matplotlib inline\n",
    "\n",
    "from sklearn.model_selection import train_test_split \n",
    "from sklearn.metrics import mean_squared_error \n",
    "from sklearn.tree import  DecisionTreeClassifier\n",
    "from sklearn.metrics import classification_report\n",
    "from imblearn.over_sampling import SMOTE\n",
    "#To visualize decision trees\n",
    "from sklearn.tree import export_graphviz  \n",
    "import graphviz\n"
   ]
  },
  {
   "cell_type": "code",
   "execution_count": 2,
   "id": "63f1c768-d8d0-45d3-9411-19b0502d2d41",
   "metadata": {},
   "outputs": [
    {
     "data": {
      "text/html": [
       "<div>\n",
       "<style scoped>\n",
       "    .dataframe tbody tr th:only-of-type {\n",
       "        vertical-align: middle;\n",
       "    }\n",
       "\n",
       "    .dataframe tbody tr th {\n",
       "        vertical-align: top;\n",
       "    }\n",
       "\n",
       "    .dataframe thead th {\n",
       "        text-align: right;\n",
       "    }\n",
       "</style>\n",
       "<table border=\"1\" class=\"dataframe\">\n",
       "  <thead>\n",
       "    <tr style=\"text-align: right;\">\n",
       "      <th></th>\n",
       "      <th>MONTH</th>\n",
       "      <th>DAY_OF_WEEK</th>\n",
       "      <th>CRS_ELAPSED_TIME</th>\n",
       "      <th>DISTANCE</th>\n",
       "      <th>DEP_TIME_M</th>\n",
       "      <th>CRS_ARR_M</th>\n",
       "      <th>Temperature</th>\n",
       "      <th>Dew Point</th>\n",
       "      <th>Humidity</th>\n",
       "      <th>Wind Speed</th>\n",
       "      <th>Wind Gust</th>\n",
       "      <th>Pressure</th>\n",
       "      <th>sch_dep</th>\n",
       "      <th>sch_arr</th>\n",
       "      <th>TAXI_OUT</th>\n",
       "      <th>DELAY_STATUS</th>\n",
       "      <th>DEST</th>\n",
       "      <th>Condition</th>\n",
       "      <th>clime</th>\n",
       "    </tr>\n",
       "  </thead>\n",
       "  <tbody>\n",
       "    <tr>\n",
       "      <th>0</th>\n",
       "      <td>11</td>\n",
       "      <td>5</td>\n",
       "      <td>124</td>\n",
       "      <td>636</td>\n",
       "      <td>323</td>\n",
       "      <td>448</td>\n",
       "      <td>48</td>\n",
       "      <td>34</td>\n",
       "      <td>58</td>\n",
       "      <td>25</td>\n",
       "      <td>38</td>\n",
       "      <td>29.86</td>\n",
       "      <td>9</td>\n",
       "      <td>17</td>\n",
       "      <td>14</td>\n",
       "      <td>0</td>\n",
       "      <td>CHS</td>\n",
       "      <td>Fair / Windy</td>\n",
       "      <td>4</td>\n",
       "    </tr>\n",
       "    <tr>\n",
       "      <th>1</th>\n",
       "      <td>11</td>\n",
       "      <td>5</td>\n",
       "      <td>371</td>\n",
       "      <td>2475</td>\n",
       "      <td>333</td>\n",
       "      <td>531</td>\n",
       "      <td>48</td>\n",
       "      <td>34</td>\n",
       "      <td>58</td>\n",
       "      <td>25</td>\n",
       "      <td>38</td>\n",
       "      <td>29.86</td>\n",
       "      <td>9</td>\n",
       "      <td>17</td>\n",
       "      <td>15</td>\n",
       "      <td>0</td>\n",
       "      <td>LAX</td>\n",
       "      <td>Fair / Windy</td>\n",
       "      <td>4</td>\n",
       "    </tr>\n",
       "    <tr>\n",
       "      <th>2</th>\n",
       "      <td>11</td>\n",
       "      <td>5</td>\n",
       "      <td>181</td>\n",
       "      <td>1069</td>\n",
       "      <td>341</td>\n",
       "      <td>482</td>\n",
       "      <td>48</td>\n",
       "      <td>34</td>\n",
       "      <td>58</td>\n",
       "      <td>25</td>\n",
       "      <td>38</td>\n",
       "      <td>29.86</td>\n",
       "      <td>9</td>\n",
       "      <td>17</td>\n",
       "      <td>22</td>\n",
       "      <td>1</td>\n",
       "      <td>FLL</td>\n",
       "      <td>Fair / Windy</td>\n",
       "      <td>4</td>\n",
       "    </tr>\n",
       "    <tr>\n",
       "      <th>3</th>\n",
       "      <td>11</td>\n",
       "      <td>5</td>\n",
       "      <td>168</td>\n",
       "      <td>944</td>\n",
       "      <td>343</td>\n",
       "      <td>513</td>\n",
       "      <td>48</td>\n",
       "      <td>34</td>\n",
       "      <td>58</td>\n",
       "      <td>25</td>\n",
       "      <td>38</td>\n",
       "      <td>29.86</td>\n",
       "      <td>9</td>\n",
       "      <td>17</td>\n",
       "      <td>12</td>\n",
       "      <td>0</td>\n",
       "      <td>MCO</td>\n",
       "      <td>Fair / Windy</td>\n",
       "      <td>4</td>\n",
       "    </tr>\n",
       "    <tr>\n",
       "      <th>4</th>\n",
       "      <td>11</td>\n",
       "      <td>5</td>\n",
       "      <td>139</td>\n",
       "      <td>760</td>\n",
       "      <td>356</td>\n",
       "      <td>499</td>\n",
       "      <td>46</td>\n",
       "      <td>32</td>\n",
       "      <td>58</td>\n",
       "      <td>24</td>\n",
       "      <td>35</td>\n",
       "      <td>29.91</td>\n",
       "      <td>9</td>\n",
       "      <td>17</td>\n",
       "      <td>13</td>\n",
       "      <td>0</td>\n",
       "      <td>ATL</td>\n",
       "      <td>Fair / Windy</td>\n",
       "      <td>4</td>\n",
       "    </tr>\n",
       "    <tr>\n",
       "      <th>...</th>\n",
       "      <td>...</td>\n",
       "      <td>...</td>\n",
       "      <td>...</td>\n",
       "      <td>...</td>\n",
       "      <td>...</td>\n",
       "      <td>...</td>\n",
       "      <td>...</td>\n",
       "      <td>...</td>\n",
       "      <td>...</td>\n",
       "      <td>...</td>\n",
       "      <td>...</td>\n",
       "      <td>...</td>\n",
       "      <td>...</td>\n",
       "      <td>...</td>\n",
       "      <td>...</td>\n",
       "      <td>...</td>\n",
       "      <td>...</td>\n",
       "      <td>...</td>\n",
       "      <td>...</td>\n",
       "    </tr>\n",
       "    <tr>\n",
       "      <th>28813</th>\n",
       "      <td>1</td>\n",
       "      <td>5</td>\n",
       "      <td>57</td>\n",
       "      <td>150</td>\n",
       "      <td>1372</td>\n",
       "      <td>1427</td>\n",
       "      <td>39</td>\n",
       "      <td>38</td>\n",
       "      <td>96</td>\n",
       "      <td>6</td>\n",
       "      <td>0</td>\n",
       "      <td>30.18</td>\n",
       "      <td>20</td>\n",
       "      <td>32</td>\n",
       "      <td>19</td>\n",
       "      <td>1</td>\n",
       "      <td>ORH</td>\n",
       "      <td>Cloudy</td>\n",
       "      <td>0</td>\n",
       "    </tr>\n",
       "    <tr>\n",
       "      <th>28814</th>\n",
       "      <td>1</td>\n",
       "      <td>5</td>\n",
       "      <td>75</td>\n",
       "      <td>187</td>\n",
       "      <td>1392</td>\n",
       "      <td>25</td>\n",
       "      <td>39</td>\n",
       "      <td>38</td>\n",
       "      <td>96</td>\n",
       "      <td>6</td>\n",
       "      <td>0</td>\n",
       "      <td>30.18</td>\n",
       "      <td>19</td>\n",
       "      <td>23</td>\n",
       "      <td>22</td>\n",
       "      <td>1</td>\n",
       "      <td>BOS</td>\n",
       "      <td>Cloudy</td>\n",
       "      <td>0</td>\n",
       "    </tr>\n",
       "    <tr>\n",
       "      <th>28815</th>\n",
       "      <td>1</td>\n",
       "      <td>5</td>\n",
       "      <td>392</td>\n",
       "      <td>2422</td>\n",
       "      <td>1408</td>\n",
       "      <td>1337</td>\n",
       "      <td>39</td>\n",
       "      <td>38</td>\n",
       "      <td>96</td>\n",
       "      <td>6</td>\n",
       "      <td>0</td>\n",
       "      <td>30.18</td>\n",
       "      <td>19</td>\n",
       "      <td>23</td>\n",
       "      <td>21</td>\n",
       "      <td>1</td>\n",
       "      <td>SEA</td>\n",
       "      <td>Cloudy</td>\n",
       "      <td>0</td>\n",
       "    </tr>\n",
       "    <tr>\n",
       "      <th>28816</th>\n",
       "      <td>1</td>\n",
       "      <td>5</td>\n",
       "      <td>224</td>\n",
       "      <td>1598</td>\n",
       "      <td>1422</td>\n",
       "      <td>261</td>\n",
       "      <td>39</td>\n",
       "      <td>38</td>\n",
       "      <td>96</td>\n",
       "      <td>6</td>\n",
       "      <td>0</td>\n",
       "      <td>30.18</td>\n",
       "      <td>19</td>\n",
       "      <td>23</td>\n",
       "      <td>13</td>\n",
       "      <td>1</td>\n",
       "      <td>SJU</td>\n",
       "      <td>Cloudy</td>\n",
       "      <td>0</td>\n",
       "    </tr>\n",
       "    <tr>\n",
       "      <th>28817</th>\n",
       "      <td>1</td>\n",
       "      <td>5</td>\n",
       "      <td>225</td>\n",
       "      <td>1576</td>\n",
       "      <td>1438</td>\n",
       "      <td>284</td>\n",
       "      <td>39</td>\n",
       "      <td>38</td>\n",
       "      <td>96</td>\n",
       "      <td>6</td>\n",
       "      <td>0</td>\n",
       "      <td>30.18</td>\n",
       "      <td>19</td>\n",
       "      <td>23</td>\n",
       "      <td>15</td>\n",
       "      <td>0</td>\n",
       "      <td>BQN</td>\n",
       "      <td>Cloudy</td>\n",
       "      <td>0</td>\n",
       "    </tr>\n",
       "  </tbody>\n",
       "</table>\n",
       "<p>28818 rows × 19 columns</p>\n",
       "</div>"
      ],
      "text/plain": [
       "       MONTH  DAY_OF_WEEK  CRS_ELAPSED_TIME  DISTANCE  DEP_TIME_M  CRS_ARR_M  \\\n",
       "0         11            5               124       636         323        448   \n",
       "1         11            5               371      2475         333        531   \n",
       "2         11            5               181      1069         341        482   \n",
       "3         11            5               168       944         343        513   \n",
       "4         11            5               139       760         356        499   \n",
       "...      ...          ...               ...       ...         ...        ...   \n",
       "28813      1            5                57       150        1372       1427   \n",
       "28814      1            5                75       187        1392         25   \n",
       "28815      1            5               392      2422        1408       1337   \n",
       "28816      1            5               224      1598        1422        261   \n",
       "28817      1            5               225      1576        1438        284   \n",
       "\n",
       "       Temperature  Dew Point  Humidity  Wind Speed  Wind Gust  Pressure  \\\n",
       "0               48         34        58          25         38     29.86   \n",
       "1               48         34        58          25         38     29.86   \n",
       "2               48         34        58          25         38     29.86   \n",
       "3               48         34        58          25         38     29.86   \n",
       "4               46         32        58          24         35     29.91   \n",
       "...            ...        ...       ...         ...        ...       ...   \n",
       "28813           39         38        96           6          0     30.18   \n",
       "28814           39         38        96           6          0     30.18   \n",
       "28815           39         38        96           6          0     30.18   \n",
       "28816           39         38        96           6          0     30.18   \n",
       "28817           39         38        96           6          0     30.18   \n",
       "\n",
       "       sch_dep  sch_arr  TAXI_OUT  DELAY_STATUS DEST     Condition  clime  \n",
       "0            9       17        14             0  CHS  Fair / Windy      4  \n",
       "1            9       17        15             0  LAX  Fair / Windy      4  \n",
       "2            9       17        22             1  FLL  Fair / Windy      4  \n",
       "3            9       17        12             0  MCO  Fair / Windy      4  \n",
       "4            9       17        13             0  ATL  Fair / Windy      4  \n",
       "...        ...      ...       ...           ...  ...           ...    ...  \n",
       "28813       20       32        19             1  ORH        Cloudy      0  \n",
       "28814       19       23        22             1  BOS        Cloudy      0  \n",
       "28815       19       23        21             1  SEA        Cloudy      0  \n",
       "28816       19       23        13             1  SJU        Cloudy      0  \n",
       "28817       19       23        15             0  BQN        Cloudy      0  \n",
       "\n",
       "[28818 rows x 19 columns]"
      ]
     },
     "execution_count": 2,
     "metadata": {},
     "output_type": "execute_result"
    }
   ],
   "source": [
    "df= pd.read_csv('vuelo_cleanTR.csv')\n",
    "df"
   ]
  },
  {
   "cell_type": "code",
   "execution_count": 3,
   "id": "04af9261-6ab5-40a3-8938-056f3530ee2f",
   "metadata": {},
   "outputs": [],
   "source": [
    "df = df.drop([ 'DEST' ,'Condition'] , axis =1)"
   ]
  },
  {
   "cell_type": "markdown",
   "id": "5133752a-6d89-48f9-a922-910f8c76913c",
   "metadata": {},
   "source": [
    "# Classification Tree"
   ]
  },
  {
   "cell_type": "code",
   "execution_count": 4,
   "id": "138be8d4-02f7-4c83-b419-faf8dc2c0f4b",
   "metadata": {},
   "outputs": [],
   "source": [
    "## X/y Split\n",
    "y = df['DELAY_STATUS']\n",
    "X= df.drop(['DELAY_STATUS'], axis = 1)"
   ]
  },
  {
   "cell_type": "code",
   "execution_count": 5,
   "id": "5f44bb39-cd0e-4a4f-a650-42256e00500b",
   "metadata": {},
   "outputs": [
    {
     "data": {
      "text/plain": [
       "0    19549\n",
       "1     9269\n",
       "Name: DELAY_STATUS, dtype: int64"
      ]
     },
     "execution_count": 5,
     "metadata": {},
     "output_type": "execute_result"
    }
   ],
   "source": [
    "y.value_counts()"
   ]
  },
  {
   "cell_type": "code",
   "execution_count": 6,
   "id": "0f709e7a-b8eb-4dd3-bbfe-341e451470c0",
   "metadata": {},
   "outputs": [
    {
     "data": {
      "text/plain": [
       "((23054, 16), (5764, 16))"
      ]
     },
     "execution_count": 6,
     "metadata": {},
     "output_type": "execute_result"
    }
   ],
   "source": [
    "X_train, X_test, y_train, y_test = train_test_split(X, y, test_size=0.2, random_state=42)\n",
    "X_train.shape, X_test.shape"
   ]
  },
  {
   "cell_type": "code",
   "execution_count": 7,
   "id": "e02da01f-ebfd-4ac4-8dc4-8176914ae85f",
   "metadata": {},
   "outputs": [
    {
     "data": {
      "text/plain": [
       "imblearn.over_sampling._smote.base.SMOTE"
      ]
     },
     "execution_count": 7,
     "metadata": {},
     "output_type": "execute_result"
    }
   ],
   "source": [
    "### BALANCEO MI VARIABLE TARGET\n",
    "SMOTE"
   ]
  },
  {
   "cell_type": "code",
   "execution_count": 8,
   "id": "8f5441ad-25ab-4a42-94ca-360bad56e967",
   "metadata": {},
   "outputs": [],
   "source": [
    "smote = SMOTE(sampling_strategy='auto', random_state=42)  # Puedes ajustar 'sampling_strategy' según tus necesidades"
   ]
  },
  {
   "cell_type": "code",
   "execution_count": 10,
   "id": "1bf90771-4366-4277-9722-1eac419e6427",
   "metadata": {},
   "outputs": [],
   "source": [
    "X_train, y_train= smote.fit_resample(X_train, y_train)"
   ]
  },
  {
   "cell_type": "code",
   "execution_count": 9,
   "id": "60c0162e-879e-4025-96a5-d54d30ff18b1",
   "metadata": {},
   "outputs": [
    {
     "data": {
      "text/plain": [
       "MONTH                 int64\n",
       "DAY_OF_WEEK           int64\n",
       "CRS_ELAPSED_TIME      int64\n",
       "DISTANCE              int64\n",
       "DEP_TIME_M            int64\n",
       "CRS_ARR_M             int64\n",
       "Temperature           int64\n",
       "Dew Point             int64\n",
       "Humidity              int64\n",
       "Wind Speed            int64\n",
       "Wind Gust             int64\n",
       "Pressure            float64\n",
       "sch_dep               int64\n",
       "sch_arr               int64\n",
       "TAXI_OUT              int64\n",
       "clime                 int64\n",
       "dtype: object"
      ]
     },
     "execution_count": 9,
     "metadata": {},
     "output_type": "execute_result"
    }
   ],
   "source": [
    "X.dtypes"
   ]
  },
  {
   "cell_type": "raw",
   "id": "2cfcf232-7287-45c4-b5a1-0423216112fb",
   "metadata": {},
   "source": [
    "## modelo con 2 niveles: "
   ]
  },
  {
   "cell_type": "code",
   "execution_count": 10,
   "id": "f03d86e7-9db6-4939-b785-e6088f49fc22",
   "metadata": {},
   "outputs": [
    {
     "data": {
      "text/plain": [
       "0.6773074253990284"
      ]
     },
     "execution_count": 10,
     "metadata": {},
     "output_type": "execute_result"
    }
   ],
   "source": [
    "model =  DecisionTreeClassifier(random_state=42 , max_depth=2)\n",
    "model.fit(X_train , y_train)\n",
    "model.score(X_test , y_test)"
   ]
  },
  {
   "cell_type": "code",
   "execution_count": 11,
   "id": "5df85c9c-0041-4048-a702-2daead400179",
   "metadata": {},
   "outputs": [
    {
     "data": {
      "text/plain": [
       "0.688210288886961"
      ]
     },
     "execution_count": 11,
     "metadata": {},
     "output_type": "execute_result"
    }
   ],
   "source": [
    "model.score(X_train , y_train)"
   ]
  },
  {
   "cell_type": "code",
   "execution_count": 9,
   "id": "27b1b615-0abe-49da-96c5-50e360514a0b",
   "metadata": {},
   "outputs": [],
   "source": [
    "y_pred = model.predict(X_test)"
   ]
  },
  {
   "cell_type": "code",
   "execution_count": 10,
   "id": "65fcd5ca-5d89-4828-843d-4585d77a4329",
   "metadata": {},
   "outputs": [
    {
     "name": "stdout",
     "output_type": "stream",
     "text": [
      "              precision    recall  f1-score   support\n",
      "\n",
      "           0       0.90      0.70      0.79      4927\n",
      "           1       0.23      0.53      0.32       837\n",
      "\n",
      "    accuracy                           0.68      5764\n",
      "   macro avg       0.56      0.62      0.56      5764\n",
      "weighted avg       0.80      0.68      0.72      5764\n",
      "\n"
     ]
    }
   ],
   "source": [
    "print(classification_report(y_pred,y_test))"
   ]
  },
  {
   "cell_type": "code",
   "execution_count": 11,
   "id": "40347652-e0e6-459f-a4e2-90996f1087e2",
   "metadata": {},
   "outputs": [],
   "source": [
    "export_graphviz(model ,\n",
    "                out_file = 'vuelos_delay2.dot',\n",
    "                feature_names = list( X.columns),\n",
    "                class_names=np.array(y.unique()).astype('str').tolist(),\n",
    "                filled= True,\n",
    "                rounded = True\n",
    "               )"
   ]
  },
  {
   "cell_type": "code",
   "execution_count": 12,
   "id": "54ea6298-d845-4ae4-98e4-e12472bc102f",
   "metadata": {},
   "outputs": [
    {
     "data": {
      "text/plain": [
       "Index(['MONTH', 'DAY_OF_WEEK', 'CRS_ELAPSED_TIME', 'DISTANCE', 'DEP_TIME_M',\n",
       "       'CRS_ARR_M', 'Temperature', 'Dew Point', 'Humidity', 'Wind Speed',\n",
       "       'Wind Gust', 'Pressure', 'sch_dep', 'sch_arr', 'TAXI_OUT', 'clime'],\n",
       "      dtype='object')"
      ]
     },
     "execution_count": 12,
     "metadata": {},
     "output_type": "execute_result"
    }
   ],
   "source": [
    "X.columns"
   ]
  },
  {
   "cell_type": "code",
   "execution_count": null,
   "id": "62b42b68-4751-4331-a1cb-b473fba2173b",
   "metadata": {},
   "outputs": [],
   "source": [
    "df.DELAY_STATUS.info()"
   ]
  },
  {
   "cell_type": "code",
   "execution_count": null,
   "id": "1b8225a4-9003-4af5-b36b-8f8f59d0ba9c",
   "metadata": {},
   "outputs": [],
   "source": [
    "model =  DecisionTreeClassifier(random_state=42 , max_depth=5)\n",
    "model.fit(X_train , y_train)\n",
    "model.score(X_test , y_test)"
   ]
  },
  {
   "cell_type": "code",
   "execution_count": null,
   "id": "961806b4-2dd4-4ad5-afa2-c952d18d3f35",
   "metadata": {},
   "outputs": [],
   "source": [
    "model.score(X_train , y_train)"
   ]
  },
  {
   "cell_type": "code",
   "execution_count": null,
   "id": "1e6f2570-948b-4ec1-9ecb-a962c0d41511",
   "metadata": {},
   "outputs": [],
   "source": [
    "y_pred = model.predict(X_test)"
   ]
  },
  {
   "cell_type": "code",
   "execution_count": null,
   "id": "634a0073-e2cd-4bec-bb96-c3194738af28",
   "metadata": {},
   "outputs": [],
   "source": [
    "print(classification_report(y_pred,y_test))"
   ]
  },
  {
   "cell_type": "code",
   "execution_count": null,
   "id": "f9c0eb32-cc5a-4552-9d06-258bcd497dab",
   "metadata": {},
   "outputs": [],
   "source": [
    "export_graphviz(model ,\n",
    "                out_file = 'vuelos_delay5.dot',\n",
    "                feature_names = list( X.columns),\n",
    "                class_names=np.array(y.unique()).astype('str').tolist(),\n",
    "                filled= True,\n",
    "                rounded = True\n",
    "               )"
   ]
  },
  {
   "cell_type": "code",
   "execution_count": null,
   "id": "8e0bb660-5d8d-4a83-b0b3-f323f10984bb",
   "metadata": {},
   "outputs": [],
   "source": [
    "model =  DecisionTreeClassifier(random_state=42 , max_depth=15)\n",
    "model.fit(X_train , y_train)\n",
    "model.score(X_test , y_test)"
   ]
  },
  {
   "cell_type": "code",
   "execution_count": null,
   "id": "7cf4bfad-8cd3-4e00-89ab-e35b146c2d31",
   "metadata": {},
   "outputs": [],
   "source": [
    "model.score(X_train , y_train)"
   ]
  },
  {
   "cell_type": "code",
   "execution_count": null,
   "id": "b12c5c3f-bb37-4fe8-9be0-3183b76e9ea1",
   "metadata": {},
   "outputs": [],
   "source": [
    "y_pred = model.predict(X_test)"
   ]
  },
  {
   "cell_type": "code",
   "execution_count": null,
   "id": "3263e52a-84a7-4a86-8f8c-d17615d0c0df",
   "metadata": {},
   "outputs": [],
   "source": [
    "print(classification_report(y_pred,y_test))"
   ]
  },
  {
   "cell_type": "code",
   "execution_count": null,
   "id": "0043cd99-cc81-4973-929a-9ed2719a72dc",
   "metadata": {},
   "outputs": [],
   "source": [
    "export_graphviz(model ,\n",
    "                out_file = 'vuelos_delay15.dot',\n",
    "                feature_names = list( X.columns),\n",
    "                class_names=np.array(y.unique()).astype('str').tolist(),\n",
    "                filled= True,\n",
    "                rounded = True\n",
    "               )"
   ]
  },
  {
   "cell_type": "code",
   "execution_count": null,
   "id": "ee3b3fd1-6217-40bc-ac51-5c836eaf3e5c",
   "metadata": {},
   "outputs": [],
   "source": []
  }
 ],
 "metadata": {
  "kernelspec": {
   "display_name": "Python 3 (ipykernel)",
   "language": "python",
   "name": "python3"
  },
  "language_info": {
   "codemirror_mode": {
    "name": "ipython",
    "version": 3
   },
   "file_extension": ".py",
   "mimetype": "text/x-python",
   "name": "python",
   "nbconvert_exporter": "python",
   "pygments_lexer": "ipython3",
   "version": "3.9.13"
  }
 },
 "nbformat": 4,
 "nbformat_minor": 5
}
